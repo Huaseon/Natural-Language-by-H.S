{
 "cells": [
  {
   "cell_type": "markdown",
   "id": "351b5914",
   "metadata": {},
   "source": [
    "# 1. 构建训练数据集\n"
   ]
  },
  {
   "cell_type": "code",
   "execution_count": null,
   "id": "43709008",
   "metadata": {},
   "outputs": [],
   "source": [
    "# 读取数据\n",
    "'''\n",
    "原始文本文件 `Lexis-Nexis_LRA.csv`，其中包含:\n",
    "- 'Title': 新闻标题\n",
    "- 'Source': 新闻来源\n",
    "- 'Time': 新闻时间\n",
    "- 'Year': 新闻年份\n",
    "- 'Month': 新闻月份\n",
    "- 'Day': 新闻日期\n",
    "- 'Text': 新闻正文\n",
    "'''\n",
    "import pandas as pd\n",
    "text_df = pd.read_csv('./data/Lexis-Nexis_LRA.csv')\n",
    "text_df.head()"
   ]
  },
  {
   "cell_type": "code",
   "execution_count": null,
   "id": "51075a77",
   "metadata": {},
   "outputs": [],
   "source": [
    "# 添加ID列\n",
    "text_df.insert(0, 'ID', range(len(text_df))) # 添加 id 列\n",
    "text_df.head()"
   ]
  },
  {
   "cell_type": "code",
   "execution_count": null,
   "id": "f9f5d764",
   "metadata": {},
   "outputs": [],
   "source": [
    "'''\n",
    "`Text`去除两端空格\n",
    "去除`Year`、`Month`、`Day`列\n",
    "就`Text`列进行编码与格式检查\n",
    "就`Text`列进行去重\n",
    "'''\n",
    "cleaned_df = text_df.copy()\n",
    "cleaned_df['Text'] = cleaned_df['Text'].str.strip()\n",
    "cleaned_df.drop(columns=['Year', 'Month', 'Day'], inplace=True)\n",
    "from tools import is_legal_text\n",
    "cleaned_df = cleaned_df.loc[cleaned_df.Text.apply(is_legal_text)]\n",
    "cleaned_df.drop_duplicates('Text', inplace=True)\n",
    "# cleaned_df.to_csv('./data/cleaned.csv', index=False)\n",
    "cleaned_df.head()"
   ]
  },
  {
   "cell_type": "code",
   "execution_count": null,
   "id": "1f2276b3",
   "metadata": {},
   "outputs": [],
   "source": [
    "'''\n",
    "经处理数据 `cleaned.csv`，其中包含:\n",
    "- 'ID': 原数据ID\n",
    "- 'Title': 新闻标题\n",
    "- 'Source': 新闻来源\n",
    "- 'Time': 新闻时间\n",
    "- 'Text': 新闻正文\n",
    "'''\n",
    "cleaned_df = pd.read_csv('./data/cleaned.csv')\n",
    "from ast import literal_eval\n",
    "cleaned_df['Text'] = cleaned_df.Text.apply(literal_eval)\n",
    "cleaned_df.head()"
   ]
  },
  {
   "cell_type": "code",
   "execution_count": null,
   "id": "c1feb895",
   "metadata": {},
   "outputs": [],
   "source": [
    "train_df = cleaned_df.copy()\n",
    "train_df.head()"
   ]
  },
  {
   "cell_type": "code",
   "execution_count": null,
   "id": "de58e395",
   "metadata": {},
   "outputs": [],
   "source": [
    "'''\n",
    "筛选出包含以下字段的文本片段：\n",
    "- \"Uganda\"\n",
    "- \"Sudan\"\n",
    "- \"Central African Republic\", \"CAR\"\n",
    "- \"Democratic Republic of the Congo\", \"DRC\"\n",
    "'''\n",
    "PF_targets = [\n",
    "    (\"Uganda\",),\n",
    "    (\"Sudan\",),\n",
    "    (\"Central African Republic\", \"CAR\"),\n",
    "    (\"Democratic Republic of the Congo\", \"DRC\",),\n",
    "]\n",
    "\n",
    "from tools import abstract_text\n",
    "PF_matched = train_df.Text.apply(lambda s: abstract_text(s, PF_targets[0]))\n",
    "for PF_target in PF_targets[1:]:\n",
    "    PF_matched = map(lambda _: list(map(any, zip(_[0], _[1]))), zip(PF_matched, train_df.Text.apply(lambda s: abstract_text(s, PF_target))))\n",
    "train_df['PF_TARGET'] = list(PF_matched)\n",
    "train_df.head()"
   ]
  },
  {
   "cell_type": "code",
   "execution_count": null,
   "id": "5410fe3c",
   "metadata": {},
   "outputs": [],
   "source": [
    "'''\n",
    "筛选出包含以下字段的文本片段：\n",
    "- \"Lord's Resistance Army\", \"LRA\"\n",
    "'''\n",
    "LRA_targets = [\n",
    "    (\"Lord's Resistance Army\", \"LRA\",),\n",
    "]\n",
    "\n",
    "LRA_matched = train_df.Text.apply(lambda s: abstract_text(s, LRA_targets[0]))\n",
    "for LRA_target in LRA_targets[1:]:\n",
    "    LRA_matched = map(lambda _: list(map(any, zip(_[0], _[1]))), zip(LRA_matched, train_df.Text.apply(lambda s: abstract_text(s, LRA_target))))\n",
    "train_df['LRA_TARGET'] = list(LRA_matched)\n",
    "train_df.head()"
   ]
  },
  {
   "cell_type": "code",
   "execution_count": null,
   "id": "79982746",
   "metadata": {},
   "outputs": [],
   "source": [
    "# train_df.to_csv('./data/train.csv', index=False)"
   ]
  },
  {
   "cell_type": "code",
   "execution_count": null,
   "id": "ff58af9a",
   "metadata": {},
   "outputs": [],
   "source": [
    "'''\n",
    "筛选出同时包含PF和LRA目标的300个文本片段\n",
    "'''\n",
    "size = 300\n",
    "target_indices = train_df.PF_TARGET.apply(lambda _: any(_)) & train_df.LRA_TARGET.apply(lambda _: any(_))\n",
    "import numpy as np\n",
    "target_df = train_df.loc[target_indices, ['ID', 'Text']].iloc[np.linspace(0, target_indices.sum(), num=300, endpoint=False, dtype=int)]\n",
    "target_df[['ASK', 'ANSWER']] = pd.DataFrame(columns=['ASK', 'ANSWER'])\n",
    "target_df.head()\n"
   ]
  },
  {
   "cell_type": "code",
   "execution_count": null,
   "id": "7f726cdc",
   "metadata": {},
   "outputs": [],
   "source": [
    "'''\n",
    "消息模板\n",
    "'''\n",
    "ASK_TEMPLATE = \"\"\"\n",
    "{}\n",
    "\n",
    "请根据以下六个基本标准，对上文进行0-1标注\n",
    "\n",
    "基本标准：\n",
    "(1)“PF_score”，报告提到伙伴部队的成功\n",
    "(2)“PF_US”，报告提到美国与伙伴部队合作\n",
    "(3)“PF_neg”，报告美国伙伴部队的负面情况\n",
    "(4)“Threat_up”，报告提到上帝抵抗军的威胁增加\n",
    "(5)“Threat_down”，上帝抵抗军的威胁是否减少\n",
    "(6)“Citizen_impact”，公民是否受到上帝抵抗军暴力的影响\n",
    "\"\"\""
   ]
  },
  {
   "cell_type": "code",
   "execution_count": null,
   "id": "97a4fc66",
   "metadata": {},
   "outputs": [],
   "source": [
    "# # 尝试标注\n",
    "# _id, _text, *_ = target_df.loc[target_df.ANSWER.isna()].iloc[0]\n",
    "# ask = ASK_TEMPLATE.format(_text)\n",
    "# answer = ask_deepseek(ask)\n",
    "# target_df.loc[target_df.index[0], ['ASK', 'ANSWER']] = [ask, answer]\n",
    "# target_df.head()"
   ]
  },
  {
   "cell_type": "code",
   "execution_count": null,
   "id": "682075d0",
   "metadata": {},
   "outputs": [],
   "source": [
    "# # 进行标注\n",
    "# for _index, _id, _text, *_ in tqdm(list(target_df.loc[target_df.ANSWER.isna()].itertuples())):\n",
    "#     ask = ASK_TEMPLATE.format(_text)\n",
    "#     answer = ask_deepseek(ask)\n",
    "#     target_df.loc[_index, ['ASK', 'ANSWER']] = [ask, answer]\n",
    "# target_df.head()"
   ]
  },
  {
   "cell_type": "code",
   "execution_count": null,
   "id": "988853be",
   "metadata": {},
   "outputs": [],
   "source": [
    "# # 提取标注结果\n",
    "# import re\n",
    "# _target_dict = target_df.ANSWER.apply(re.compile(\"([PFThreatCitizen]+_[\\w]+)[^\\d]+?(\\d)\").findall).apply(lambda _: {key: value for key, value in _[:6]}).to_dict()\n",
    "# len(_target_dict)"
   ]
  },
  {
   "cell_type": "code",
   "execution_count": null,
   "id": "668e2285",
   "metadata": {},
   "outputs": [],
   "source": [
    "# _target_df = pd.DataFrame.from_dict(\n",
    "#     _target_dict, orient='index'\n",
    "# )\n",
    "# _target_df.head()"
   ]
  },
  {
   "cell_type": "code",
   "execution_count": null,
   "id": "1401e451",
   "metadata": {},
   "outputs": [],
   "source": [
    "# target_df[_target_df.columns] = _target_df\n",
    "# target_df.head()"
   ]
  },
  {
   "cell_type": "code",
   "execution_count": null,
   "id": "019d1359",
   "metadata": {},
   "outputs": [],
   "source": [
    "# target_df.to_csv('./data/target_df.csv', index=False)"
   ]
  },
  {
   "cell_type": "code",
   "execution_count": null,
   "id": "cb30e149",
   "metadata": {},
   "outputs": [],
   "source": [
    "# TARGET_MD = \"\"\" # ID-{}.\n",
    "# - ASK:\n",
    "\n",
    "# ```\n",
    "# {}\n",
    "\n",
    "# 请根据以下六个基本标准，对上文进行0-1标注\n",
    "\n",
    "# 基本标准：\n",
    "# (1)“PF_score”，报告提到伙伴部队的成功\n",
    "# (2)“PF_US”，报告提到美国与伙伴部队合作\n",
    "# (3)“PF_neg”，报告美国伙伴部队的负面情况\n",
    "# (4)“Threat_up”，报告提到上帝抵抗军的威胁增加\n",
    "# (5)“Threat_down”，上帝抵抗军的威胁是否减少\n",
    "# (6)“Citizen_impact”，公民是否受到上帝抵抗军暴力的影响\n",
    "# ```\n",
    "\n",
    "# - ANSWER:\n",
    "\n",
    "# ```\n",
    "# {}\n",
    "# ```\n",
    "# ---\n",
    "# \"\"\""
   ]
  },
  {
   "cell_type": "code",
   "execution_count": null,
   "id": "f976ecbe",
   "metadata": {},
   "outputs": [],
   "source": [
    "# from itertools import chain\n",
    "# with open('./data/target_df.md', 'w') as f:\n",
    "#     f.write((TARGET_MD * len(target_df)).format(*chain(*zip(target_df.ID, target_df.Text, target_df.ANSWER))))"
   ]
  },
  {
   "cell_type": "code",
   "execution_count": null,
   "id": "890fa2e4",
   "metadata": {},
   "outputs": [],
   "source": [
    "# train_target_df = train_df.merge(target_df[['ID', 'PF_score', 'PF_US', 'PF_neg', 'Threat_up', 'Threat_down', 'Citizen_impact']], on='ID', how='right')\n",
    "# train_target_df.head()"
   ]
  },
  {
   "cell_type": "code",
   "execution_count": null,
   "id": "829ce580",
   "metadata": {},
   "outputs": [],
   "source": [
    "# train_target_df.to_csv('./data/train_target_df.csv', index=False)"
   ]
  },
  {
   "cell_type": "markdown",
   "id": "9a000e2e",
   "metadata": {},
   "source": [
    "# 2. 模型 & 训练"
   ]
  },
  {
   "cell_type": "code",
   "execution_count": null,
   "id": "644dd2cb",
   "metadata": {},
   "outputs": [],
   "source": [
    "# ! nohup python main.py > ./data/log.log 2>&1 &"
   ]
  },
  {
   "cell_type": "markdown",
   "id": "c84f4525",
   "metadata": {},
   "source": [
    "# 3. 获取评估结果"
   ]
  },
  {
   "cell_type": "code",
   "execution_count": null,
   "id": "70c26e1e",
   "metadata": {},
   "outputs": [],
   "source": [
    "import torch\n",
    "from model.text_assessment.text_assessor import TextAssessor\n",
    "device = 'cuda' if torch.cuda.is_available() else 'cpu'\n",
    "model = TextAssessor.loads(save_model='./data/text_assessor_B(350).pth', device=device)\n",
    "print(model, device)"
   ]
  },
  {
   "cell_type": "code",
   "execution_count": null,
   "id": "2e4611aa",
   "metadata": {},
   "outputs": [],
   "source": [
    "from model.text_assessment import PRETRAINED_MODEL_NAME\n",
    "from transformers import BertTokenizer\n",
    "tokenizer = BertTokenizer.from_pretrained(PRETRAINED_MODEL_NAME)\n",
    "print(tokenizer)\n"
   ]
  },
  {
   "cell_type": "code",
   "execution_count": null,
   "id": "f9c11528",
   "metadata": {},
   "outputs": [],
   "source": [
    "import pandas as pd\n",
    "data_df = pd.read_csv('./data/cleaned.csv')\n",
    "from ast import literal_eval\n",
    "data_df['Text'] = data_df.Text.apply(literal_eval)\n",
    "data_df.head()"
   ]
  },
  {
   "cell_type": "code",
   "execution_count": null,
   "id": "b3ad4edb",
   "metadata": {},
   "outputs": [],
   "source": [
    "from model.text_assessment.text_assessor import predict_one\n",
    "from model.text_assessment import MAX_LEN\n",
    "from tqdm.auto import tqdm\n",
    "# 这里发现，数据中存在Text列为空列表的情况\n",
    "items = {}\n",
    "for _id, *_, _text in tqdm(data_df.itertuples(index=False), total=len(data_df)):\n",
    "    pred = predict_one(data_text=_text, model=model, tokenizer=tokenizer, max_len=MAX_LEN, device=device) \\\n",
    "        if _text else {\n",
    "        \"pred.values.PF_score\": None,\n",
    "        \"pred.values.PF_US\": None,\n",
    "        \"pred.values.PF_neg\": None,\n",
    "        \"pred.values.Threat_up\": None,\n",
    "        \"pred.values.Threat_down\": None,\n",
    "        \"pred.values.Citizen_impact\": None,\n",
    "    }\n",
    "    items[_id] = pred\n"
   ]
  },
  {
   "cell_type": "code",
   "execution_count": 11,
   "id": "20bee757",
   "metadata": {},
   "outputs": [
    {
     "data": {
      "text/html": [
       "<div>\n",
       "<style scoped>\n",
       "    .dataframe tbody tr th:only-of-type {\n",
       "        vertical-align: middle;\n",
       "    }\n",
       "\n",
       "    .dataframe tbody tr th {\n",
       "        vertical-align: top;\n",
       "    }\n",
       "\n",
       "    .dataframe thead th {\n",
       "        text-align: right;\n",
       "    }\n",
       "</style>\n",
       "<table border=\"1\" class=\"dataframe\">\n",
       "  <thead>\n",
       "    <tr style=\"text-align: right;\">\n",
       "      <th></th>\n",
       "      <th>pred.values.PF_score</th>\n",
       "      <th>pred.values.PF_US</th>\n",
       "      <th>pred.values.PF_neg</th>\n",
       "      <th>pred.values.Threat_up</th>\n",
       "      <th>pred.values.Threat_down</th>\n",
       "      <th>pred.values.Citizen_impact</th>\n",
       "    </tr>\n",
       "  </thead>\n",
       "  <tbody>\n",
       "    <tr>\n",
       "      <th>0</th>\n",
       "      <td>0.059625</td>\n",
       "      <td>0.060334</td>\n",
       "      <td>0.023490</td>\n",
       "      <td>0.281067</td>\n",
       "      <td>0.254386</td>\n",
       "      <td>0.714013</td>\n",
       "    </tr>\n",
       "    <tr>\n",
       "      <th>1</th>\n",
       "      <td>0.387642</td>\n",
       "      <td>0.747410</td>\n",
       "      <td>0.197883</td>\n",
       "      <td>0.498937</td>\n",
       "      <td>0.353932</td>\n",
       "      <td>0.665519</td>\n",
       "    </tr>\n",
       "    <tr>\n",
       "      <th>3</th>\n",
       "      <td>0.108162</td>\n",
       "      <td>0.330988</td>\n",
       "      <td>0.062792</td>\n",
       "      <td>0.197920</td>\n",
       "      <td>0.253518</td>\n",
       "      <td>0.698617</td>\n",
       "    </tr>\n",
       "    <tr>\n",
       "      <th>4</th>\n",
       "      <td>0.090984</td>\n",
       "      <td>0.079802</td>\n",
       "      <td>0.033550</td>\n",
       "      <td>0.297495</td>\n",
       "      <td>0.317629</td>\n",
       "      <td>0.611865</td>\n",
       "    </tr>\n",
       "    <tr>\n",
       "      <th>6</th>\n",
       "      <td>0.072882</td>\n",
       "      <td>0.042844</td>\n",
       "      <td>0.023981</td>\n",
       "      <td>0.372860</td>\n",
       "      <td>0.277219</td>\n",
       "      <td>0.714023</td>\n",
       "    </tr>\n",
       "  </tbody>\n",
       "</table>\n",
       "</div>"
      ],
      "text/plain": [
       "   pred.values.PF_score  pred.values.PF_US  pred.values.PF_neg  \\\n",
       "0              0.059625           0.060334            0.023490   \n",
       "1              0.387642           0.747410            0.197883   \n",
       "3              0.108162           0.330988            0.062792   \n",
       "4              0.090984           0.079802            0.033550   \n",
       "6              0.072882           0.042844            0.023981   \n",
       "\n",
       "   pred.values.Threat_up  pred.values.Threat_down  pred.values.Citizen_impact  \n",
       "0               0.281067                 0.254386                    0.714013  \n",
       "1               0.498937                 0.353932                    0.665519  \n",
       "3               0.197920                 0.253518                    0.698617  \n",
       "4               0.297495                 0.317629                    0.611865  \n",
       "6               0.372860                 0.277219                    0.714023  "
      ]
     },
     "execution_count": 11,
     "metadata": {},
     "output_type": "execute_result"
    }
   ],
   "source": [
    "items_df = pd.DataFrame.from_dict(items, orient='index')\n",
    "items_df.head()"
   ]
  },
  {
   "cell_type": "code",
   "execution_count": 17,
   "id": "9d52e6d4",
   "metadata": {},
   "outputs": [
    {
     "data": {
      "text/html": [
       "<div>\n",
       "<style scoped>\n",
       "    .dataframe tbody tr th:only-of-type {\n",
       "        vertical-align: middle;\n",
       "    }\n",
       "\n",
       "    .dataframe tbody tr th {\n",
       "        vertical-align: top;\n",
       "    }\n",
       "\n",
       "    .dataframe thead th {\n",
       "        text-align: right;\n",
       "    }\n",
       "</style>\n",
       "<table border=\"1\" class=\"dataframe\">\n",
       "  <thead>\n",
       "    <tr style=\"text-align: right;\">\n",
       "      <th></th>\n",
       "      <th>ID</th>\n",
       "      <th>Title</th>\n",
       "      <th>Source</th>\n",
       "      <th>Time</th>\n",
       "      <th>Text</th>\n",
       "      <th>pred.values.PF_score</th>\n",
       "      <th>pred.values.PF_US</th>\n",
       "      <th>pred.values.PF_neg</th>\n",
       "      <th>pred.values.Threat_up</th>\n",
       "      <th>pred.values.Threat_down</th>\n",
       "      <th>pred.values.Citizen_impact</th>\n",
       "    </tr>\n",
       "  </thead>\n",
       "  <tbody>\n",
       "    <tr>\n",
       "      <th>0</th>\n",
       "      <td>0</td>\n",
       "      <td>War criminal walking around in plain sight</td>\n",
       "      <td>The Calgary Herald (Alberta)</td>\n",
       "      <td>March 19, 2012 Monday</td>\n",
       "      <td>[The International Criminal Court has reached ...</td>\n",
       "      <td>0.059625</td>\n",
       "      <td>0.060334</td>\n",
       "      <td>0.023490</td>\n",
       "      <td>0.281067</td>\n",
       "      <td>0.254386</td>\n",
       "      <td>0.714013</td>\n",
       "    </tr>\n",
       "    <tr>\n",
       "      <th>1</th>\n",
       "      <td>1</td>\n",
       "      <td>UN warns of growing attacks in Central Africa</td>\n",
       "      <td>IBNS</td>\n",
       "      <td>March 31, 2012 Saturday 6:30 AM EST</td>\n",
       "      <td>[Geneva, Mar 31 (IBNS) The United Nations refu...</td>\n",
       "      <td>0.387642</td>\n",
       "      <td>0.747410</td>\n",
       "      <td>0.197883</td>\n",
       "      <td>0.498937</td>\n",
       "      <td>0.353932</td>\n",
       "      <td>0.665519</td>\n",
       "    </tr>\n",
       "    <tr>\n",
       "      <th>2</th>\n",
       "      <td>3</td>\n",
       "      <td>Review: COVER STORY: KONY 2012: What happened ...</td>\n",
       "      <td>The Observer (London)</td>\n",
       "      <td>15-Jul-12</td>\n",
       "      <td>[For 25 years, Joseph Kony and his Lord's Resi...</td>\n",
       "      <td>0.108162</td>\n",
       "      <td>0.330988</td>\n",
       "      <td>0.062792</td>\n",
       "      <td>0.197920</td>\n",
       "      <td>0.253518</td>\n",
       "      <td>0.698617</td>\n",
       "    </tr>\n",
       "    <tr>\n",
       "      <th>3</th>\n",
       "      <td>4</td>\n",
       "      <td>Uganda 's war-scarred north set for peacetime ...</td>\n",
       "      <td>Agence France Presse -- English</td>\n",
       "      <td>February 15, 2011 Tuesday 9:21 AM GMT</td>\n",
       "      <td>[Displaced northern Ugandans have flocked home...</td>\n",
       "      <td>0.090984</td>\n",
       "      <td>0.079802</td>\n",
       "      <td>0.033550</td>\n",
       "      <td>0.297495</td>\n",
       "      <td>0.317629</td>\n",
       "      <td>0.611865</td>\n",
       "    </tr>\n",
       "    <tr>\n",
       "      <th>4</th>\n",
       "      <td>6</td>\n",
       "      <td>BRITISH SAFARI MAN ACCUSED OF MASS MURDER 'FRAMED</td>\n",
       "      <td>MAIL ON SUNDAY (London)</td>\n",
       "      <td>May 13, 2012 Sunday</td>\n",
       "      <td>[LOCAL POACHERS', FROM TIMOTHY EVANS IN BANGUI...</td>\n",
       "      <td>0.072882</td>\n",
       "      <td>0.042844</td>\n",
       "      <td>0.023981</td>\n",
       "      <td>0.372860</td>\n",
       "      <td>0.277219</td>\n",
       "      <td>0.714023</td>\n",
       "    </tr>\n",
       "  </tbody>\n",
       "</table>\n",
       "</div>"
      ],
      "text/plain": [
       "   ID                                              Title  \\\n",
       "0   0         War criminal walking around in plain sight   \n",
       "1   1      UN warns of growing attacks in Central Africa   \n",
       "2   3  Review: COVER STORY: KONY 2012: What happened ...   \n",
       "3   4  Uganda 's war-scarred north set for peacetime ...   \n",
       "4   6  BRITISH SAFARI MAN ACCUSED OF MASS MURDER 'FRAMED   \n",
       "\n",
       "                            Source                                   Time  \\\n",
       "0     The Calgary Herald (Alberta)                  March 19, 2012 Monday   \n",
       "1                             IBNS    March 31, 2012 Saturday 6:30 AM EST   \n",
       "2            The Observer (London)                              15-Jul-12   \n",
       "3  Agence France Presse -- English  February 15, 2011 Tuesday 9:21 AM GMT   \n",
       "4          MAIL ON SUNDAY (London)                    May 13, 2012 Sunday   \n",
       "\n",
       "                                                Text  pred.values.PF_score  \\\n",
       "0  [The International Criminal Court has reached ...              0.059625   \n",
       "1  [Geneva, Mar 31 (IBNS) The United Nations refu...              0.387642   \n",
       "2  [For 25 years, Joseph Kony and his Lord's Resi...              0.108162   \n",
       "3  [Displaced northern Ugandans have flocked home...              0.090984   \n",
       "4  [LOCAL POACHERS', FROM TIMOTHY EVANS IN BANGUI...              0.072882   \n",
       "\n",
       "   pred.values.PF_US  pred.values.PF_neg  pred.values.Threat_up  \\\n",
       "0           0.060334            0.023490               0.281067   \n",
       "1           0.747410            0.197883               0.498937   \n",
       "2           0.330988            0.062792               0.197920   \n",
       "3           0.079802            0.033550               0.297495   \n",
       "4           0.042844            0.023981               0.372860   \n",
       "\n",
       "   pred.values.Threat_down  pred.values.Citizen_impact  \n",
       "0                 0.254386                    0.714013  \n",
       "1                 0.353932                    0.665519  \n",
       "2                 0.253518                    0.698617  \n",
       "3                 0.317629                    0.611865  \n",
       "4                 0.277219                    0.714023  "
      ]
     },
     "execution_count": 17,
     "metadata": {},
     "output_type": "execute_result"
    }
   ],
   "source": [
    "result_df = data_df.merge(items_df, left_on='ID', right_index=True, how='left')\n",
    "result_df.head()"
   ]
  },
  {
   "cell_type": "code",
   "execution_count": 18,
   "id": "97c68d4a",
   "metadata": {},
   "outputs": [],
   "source": [
    "# result_df.to_csv('./data/result_df.csv', index=False)"
   ]
  }
 ],
 "metadata": {
  "kernelspec": {
   "display_name": "dsj",
   "language": "python",
   "name": "python3"
  },
  "language_info": {
   "codemirror_mode": {
    "name": "ipython",
    "version": 3
   },
   "file_extension": ".py",
   "mimetype": "text/x-python",
   "name": "python",
   "nbconvert_exporter": "python",
   "pygments_lexer": "ipython3",
   "version": "3.11.11"
  }
 },
 "nbformat": 4,
 "nbformat_minor": 5
}
