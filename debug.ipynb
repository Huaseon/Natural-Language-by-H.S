{
 "cells": [
  {
   "cell_type": "markdown",
   "id": "1a170688",
   "metadata": {},
   "source": [
    "<!-- ### REF https://pytorch.ac.cn/tutorials/intermediate/char_rnn_classification_tutorial.html -->"
   ]
  },
  {
   "cell_type": "code",
   "execution_count": 1,
   "id": "b4f6c2b4",
   "metadata": {},
   "outputs": [],
   "source": [
    "# import torch\n",
    "# from torch import nn\n",
    "# import torch.nn.functional as F\n",
    "# device = 'cuda' if torch.cuda.is_available() else 'cpu'\n",
    "# torch.set_default_device(device=device)\n",
    "# torch.get_default_device()"
   ]
  },
  {
   "cell_type": "code",
   "execution_count": 2,
   "id": "f6751b3f",
   "metadata": {},
   "outputs": [],
   "source": [
    "# import string # REF https://docs.python.org/zh-cn/3.11/library/string.html\n",
    "# import unicodedata # REF https://docs.python.org/zh-cn/3.11/library/unicodedata.html"
   ]
  },
  {
   "cell_type": "markdown",
   "id": "9243f21c",
   "metadata": {},
   "source": [
    "<!-- #### 1. 数据清理\n",
    "\n",
    "将Unicode转换为纯ASCII以限制输入\n",
    "将Unicode字符串替换为ASCII并只允许一小部分允许的字符 -->"
   ]
  },
  {
   "cell_type": "code",
   "execution_count": 3,
   "id": "e4b4b7b8",
   "metadata": {},
   "outputs": [],
   "source": [
    "# # 使用 “_” 表示非词汇表的字符与模型未处理字符\n",
    "# allowed_characters = string.ascii_letters + string.digits + \".,;\" + \"_\"\n",
    "# n_letters = len(allowed_characters)"
   ]
  },
  {
   "cell_type": "code",
   "execution_count": 4,
   "id": "78b10c22",
   "metadata": {},
   "outputs": [],
   "source": [
    "# # 删除Python unicode字符串中的重音符号\n",
    "# # REF https://stackoverflow.com/a/518232/2809427\n",
    "# def unicodeToAscii(s):\n",
    "#     return ''.join(\n",
    "#         c for c in unicodedata.normalize('NFD', s)\n",
    "#         if unicodedata.category(c) != 'Mn'\n",
    "#         and c in allowed_characters\n",
    "#     )"
   ]
  },
  {
   "cell_type": "markdown",
   "id": "4b9ad228",
   "metadata": {},
   "source": [
    "<!-- #### 2. 文本 to 张量\n",
    "\n",
    "使用 \\<1 $\\times$ n_letters\\> 的 one-hot 编码，表示单个字符。\n",
    "\n",
    "使用一个 2D 矩阵 \\<line_length $\\times$ 1 $\\times$ n_letters\\> 表示一个单词\n",
    "\n",
    "额外的维度 1 是因为PyTorch假定所有内容都是批量的，这里使用批量大小为 1 -->"
   ]
  },
  {
   "cell_type": "code",
   "execution_count": 5,
   "id": "9dac47d8",
   "metadata": {},
   "outputs": [],
   "source": [
    "# # 字符索引定位\n",
    "# def letterToIndex(letter):\n",
    "#     return allowed_characters.find(letter in allowed_characters and letter or '_')"
   ]
  },
  {
   "cell_type": "code",
   "execution_count": 6,
   "id": "aacf1445",
   "metadata": {},
   "outputs": [],
   "source": [
    "# # 词的张量表示\n",
    "# def lineToTensor(line):\n",
    "#     indices = torch.tensor([letterToIndex(letter=letter) for letter in line])\n",
    "#     return F.one_hot(indices, num_classes=n_letters)"
   ]
  },
  {
   "cell_type": "markdown",
   "id": "5460ac9c",
   "metadata": {},
   "source": [
    "<!-- #### 3. 构建数据集\n",
    "\n",
    "使用 Dataset 与 DataLoader 存储数据集，实现 `__init__`, `__len__`, `__getitem__` -->"
   ]
  },
  {
   "cell_type": "code",
   "execution_count": 7,
   "id": "b9431359",
   "metadata": {},
   "outputs": [],
   "source": [
    "# import re\n",
    "# from pathlib import Path\n",
    "# import pandas as pd\n",
    "# import numpy as np\n",
    "# import glob\n",
    "# import os\n",
    "# import time\n",
    "\n",
    "# from torch.utils.data import Dataset"
   ]
  },
  {
   "cell_type": "code",
   "execution_count": 8,
   "id": "0a7d8e2b",
   "metadata": {},
   "outputs": [],
   "source": [
    "# data_path = Path('./data/Lexis-Nexis_LRA.csv')"
   ]
  },
  {
   "cell_type": "code",
   "execution_count": 9,
   "id": "7c3f67f9",
   "metadata": {},
   "outputs": [],
   "source": [
    "# df_data = pd.read_csv(filepath_or_buffer=data_path)\n",
    "# df_data.head()"
   ]
  },
  {
   "cell_type": "code",
   "execution_count": 10,
   "id": "e8757c03",
   "metadata": {},
   "outputs": [],
   "source": [
    "# df_data.Text.__len__()"
   ]
  },
  {
   "cell_type": "code",
   "execution_count": 11,
   "id": "803ef301",
   "metadata": {},
   "outputs": [],
   "source": [
    "# df_data.drop_duplicates('Text').Text.apply(lambda text: bool(re.search(r'[^\\x00-\\x7F]',  text)) ^ True).sum()"
   ]
  },
  {
   "cell_type": "code",
   "execution_count": 12,
   "id": "49a17de6",
   "metadata": {},
   "outputs": [],
   "source": [
    "# df_data.drop_duplicates('Text').loc[df_data.Text.apply(lambda text: bool(re.search(r'[^\\x00-\\x7F]',  text)) ^ True)]"
   ]
  },
  {
   "cell_type": "code",
   "execution_count": 13,
   "id": "be7a652f",
   "metadata": {},
   "outputs": [],
   "source": [
    "# class sDataset(Dataset):\n",
    "#     def __init__(self, df_data):\n",
    "#         self.df = df_data.drop_duplicates('Text')\n",
    "#         legal_indices = self.df.Text.apply(self.is_legal_string)\n",
    "#         self.data = self.df.loc[legal_indices]\n",
    "#         self.length = legal_indices.sum()\n",
    "\n",
    "#     # 正确编码\n",
    "#     def is_legal_string(self, text):\n",
    "#         return bool(re.search(r'[^\\x00-\\x7F]',  text)) ^ True\n",
    "\n",
    "#     def __len__(self):\n",
    "#         return self.length\n",
    "\n",
    "#     def __getitem__(self, index):\n",
    "#         return self.data.iloc[index]\n"
   ]
  },
  {
   "cell_type": "code",
   "execution_count": 14,
   "id": "ffc648aa",
   "metadata": {},
   "outputs": [],
   "source": [
    "# sdata = sDataset(df_data=df_data)\n",
    "# len(sdata), sdata[0]"
   ]
  },
  {
   "cell_type": "code",
   "execution_count": 15,
   "id": "f0835302",
   "metadata": {},
   "outputs": [],
   "source": [
    "# ASK_TEMPLATE = \"\"\"\n",
    "# - ASK: \n",
    "# ``` txt\n",
    "# {}\n",
    "\n",
    "# 请根据以下六个基本标准，对上文进行0-1标注\n",
    "\n",
    "# 基本标准：\n",
    "# (1)“PF_score”，报告提到伙伴部队的成功\n",
    "# (2)“PF_US”，报告提到美国与伙伴部队合作\n",
    "# (3)“PF_neg”，报告美国伙伴部队的负面情况\n",
    "# (4)“Threat_up”，报告提到上帝抵抗军的威胁增加\n",
    "# (5)“Threat_down”，上帝抵抗军的威胁是否减少\n",
    "# (6)“Citizen_impact”，公民是否受到上帝抵抗军暴力的影响\n",
    "# ```\n",
    "\n",
    "# - RESPONSE:\n",
    "# ```\n",
    "\n",
    "# ```\n",
    "# ---\n",
    "# \"\"\""
   ]
  },
  {
   "cell_type": "code",
   "execution_count": 16,
   "id": "e2127aa1",
   "metadata": {},
   "outputs": [],
   "source": [
    "# size = 100\n",
    "# with open('./data/MarkingByDeepSeek.md', 'w') as f:\n",
    "#     f.write((ASK_TEMPLATE * size) .format(*sdata[:size].Text))"
   ]
  },
  {
   "cell_type": "code",
   "execution_count": 17,
   "id": "12dca5a2",
   "metadata": {},
   "outputs": [],
   "source": [
    "# with open('./data/MarkingByDeepSeek.md', 'r') as f:\n",
    "#     Marking = f.read()"
   ]
  },
  {
   "cell_type": "code",
   "execution_count": 18,
   "id": "174d21d1",
   "metadata": {},
   "outputs": [],
   "source": [
    "# def markingTodict(marking):\n",
    "#     pattern = re.compile(\"\"\"\\s- ASK:\\s\\n```\\stxt\\n([\\w\\W]+?)\\n\\n请根据以下六个基本标准，对上文进行0-1标注\\n\\n基本标准：\\n\\(1\\)“PF_score”，报告提到伙伴部队的成功\\n\\(2\\)“PF_US”，报告提到美国与伙伴部队合作\\n\\(3\\)“PF_neg”，报告美国伙伴部队的负面情况\\n\\(4\\)“Threat_up”，报告提到上帝抵抗军的威胁增加\\n\\(5\\)“Threat_down”，上帝抵抗军的威胁是否减少\\n\\(6\\)“Citizen_impact”，公民是否受到上帝抵抗军暴力的影响\\n```\\n\\n-\\sRESPONSE:\\n```\\n([\\w\\W]+?)\\n```\\n\"\"\")\n",
    "#     items = {}\n",
    "#     for idx, (text, response) in enumerate(pattern.findall(marking)):\n",
    "#         item = re.compile(\"([PFThreatCitizen]+_[\\w]+).+?(\\d)\").findall(response)[:6]\n",
    "#         items[idx] = {\n",
    "#             'text': text,\n",
    "#             'response': response,\n",
    "#             **dict(item)\n",
    "#         }\n",
    "#     return items\n"
   ]
  },
  {
   "cell_type": "code",
   "execution_count": 19,
   "id": "f0bd121c",
   "metadata": {},
   "outputs": [],
   "source": [
    "# df_result = pd.DataFrame.from_dict(markingTodict(Marking), orient='index')\n",
    "# df_result"
   ]
  },
  {
   "cell_type": "code",
   "execution_count": 20,
   "id": "73492330",
   "metadata": {},
   "outputs": [],
   "source": [
    "# df_result.iloc[:, [0, 2, 3, 4, 5, 6, 7]].to_csv('./data/MarkingResult.csv', index=False)\n"
   ]
  },
  {
   "cell_type": "code",
   "execution_count": 21,
   "id": "734f9e9d",
   "metadata": {},
   "outputs": [],
   "source": [
    "# df_result = pd.read_csv('./data/MarkingResult.csv')\n",
    "# df_result"
   ]
  },
  {
   "cell_type": "code",
   "execution_count": 22,
   "id": "e8f475c1",
   "metadata": {},
   "outputs": [],
   "source": [
    "import pandas as pd\n",
    "from itertools import compress\n",
    "import ast # REF https://docs.python.org/zh-cn/3.11/library/ast.html\n",
    "import re\n"
   ]
  },
  {
   "cell_type": "markdown",
   "id": "14741d3b",
   "metadata": {},
   "source": [
    "# 1. 整理数据\n"
   ]
  },
  {
   "cell_type": "code",
   "execution_count": 23,
   "id": "c6fab909",
   "metadata": {},
   "outputs": [
    {
     "data": {
      "text/html": [
       "<div>\n",
       "<style scoped>\n",
       "    .dataframe tbody tr th:only-of-type {\n",
       "        vertical-align: middle;\n",
       "    }\n",
       "\n",
       "    .dataframe tbody tr th {\n",
       "        vertical-align: top;\n",
       "    }\n",
       "\n",
       "    .dataframe thead th {\n",
       "        text-align: right;\n",
       "    }\n",
       "</style>\n",
       "<table border=\"1\" class=\"dataframe\">\n",
       "  <thead>\n",
       "    <tr style=\"text-align: right;\">\n",
       "      <th></th>\n",
       "      <th>Title</th>\n",
       "      <th>Source</th>\n",
       "      <th>Time</th>\n",
       "      <th>Year</th>\n",
       "      <th>Month</th>\n",
       "      <th>Day</th>\n",
       "      <th>Text</th>\n",
       "    </tr>\n",
       "  </thead>\n",
       "  <tbody>\n",
       "    <tr>\n",
       "      <th>0</th>\n",
       "      <td>War criminal walking around in plain sight</td>\n",
       "      <td>The Calgary Herald (Alberta)</td>\n",
       "      <td>March 19, 2012 Monday</td>\n",
       "      <td>2012</td>\n",
       "      <td>March</td>\n",
       "      <td>19</td>\n",
       "      <td>['The International Criminal Court has reached...</td>\n",
       "    </tr>\n",
       "    <tr>\n",
       "      <th>1</th>\n",
       "      <td>UN warns of growing attacks in Central Africa</td>\n",
       "      <td>IBNS</td>\n",
       "      <td>March 31, 2012 Saturday 6:30 AM EST</td>\n",
       "      <td>2012</td>\n",
       "      <td>March</td>\n",
       "      <td>31</td>\n",
       "      <td>[\"Geneva, Mar 31 (IBNS) The United Nations ref...</td>\n",
       "    </tr>\n",
       "    <tr>\n",
       "      <th>2</th>\n",
       "      <td>'Now Katine is famous': how a Guardian project...</td>\n",
       "      <td>The Guardian(London)</td>\n",
       "      <td>December 30, 2017 Saturday 9:00 AM GMT</td>\n",
       "      <td>2017</td>\n",
       "      <td>December</td>\n",
       "      <td>30</td>\n",
       "      <td>[\"Joyce Abiro was among the first to join the ...</td>\n",
       "    </tr>\n",
       "    <tr>\n",
       "      <th>3</th>\n",
       "      <td>Review: COVER STORY: KONY 2012: What happened ...</td>\n",
       "      <td>The Observer (London)</td>\n",
       "      <td>15-Jul-12</td>\n",
       "      <td>2012</td>\n",
       "      <td>July</td>\n",
       "      <td>15</td>\n",
       "      <td>['For 25 years, Joseph Kony and his Lord\\'s Re...</td>\n",
       "    </tr>\n",
       "    <tr>\n",
       "      <th>4</th>\n",
       "      <td>Uganda 's war-scarred north set for peacetime ...</td>\n",
       "      <td>Agence France Presse -- English</td>\n",
       "      <td>February 15, 2011 Tuesday 9:21 AM GMT</td>\n",
       "      <td>2011</td>\n",
       "      <td>February</td>\n",
       "      <td>15</td>\n",
       "      <td>['Displaced northern Ugandans have flocked hom...</td>\n",
       "    </tr>\n",
       "  </tbody>\n",
       "</table>\n",
       "</div>"
      ],
      "text/plain": [
       "                                               Title  \\\n",
       "0         War criminal walking around in plain sight   \n",
       "1      UN warns of growing attacks in Central Africa   \n",
       "2  'Now Katine is famous': how a Guardian project...   \n",
       "3  Review: COVER STORY: KONY 2012: What happened ...   \n",
       "4  Uganda 's war-scarred north set for peacetime ...   \n",
       "\n",
       "                            Source                                    Time  \\\n",
       "0     The Calgary Herald (Alberta)                   March 19, 2012 Monday   \n",
       "1                             IBNS     March 31, 2012 Saturday 6:30 AM EST   \n",
       "2             The Guardian(London)  December 30, 2017 Saturday 9:00 AM GMT   \n",
       "3            The Observer (London)                               15-Jul-12   \n",
       "4  Agence France Presse -- English   February 15, 2011 Tuesday 9:21 AM GMT   \n",
       "\n",
       "   Year     Month  Day                                               Text  \n",
       "0  2012     March   19  ['The International Criminal Court has reached...  \n",
       "1  2012     March   31  [\"Geneva, Mar 31 (IBNS) The United Nations ref...  \n",
       "2  2017  December   30  [\"Joyce Abiro was among the first to join the ...  \n",
       "3  2012      July   15  ['For 25 years, Joseph Kony and his Lord\\'s Re...  \n",
       "4  2011  February   15  ['Displaced northern Ugandans have flocked hom...  "
      ]
     },
     "execution_count": 23,
     "metadata": {},
     "output_type": "execute_result"
    }
   ],
   "source": [
    "# 读取数据\n",
    "data_df = pd.read_csv('./data/Lexis-Nexis_LRA.csv')\n",
    "data_df.head()"
   ]
  },
  {
   "cell_type": "code",
   "execution_count": 24,
   "id": "4b24e0fc",
   "metadata": {},
   "outputs": [
    {
     "data": {
      "text/plain": [
       "(14664, 7)"
      ]
     },
     "execution_count": 24,
     "metadata": {},
     "output_type": "execute_result"
    }
   ],
   "source": [
    "data_df.shape"
   ]
  },
  {
   "cell_type": "code",
   "execution_count": 25,
   "id": "c3481938",
   "metadata": {},
   "outputs": [],
   "source": [
    "# 规范编码\n",
    "def is_legal_text(text):\n",
    "    if re.search(r'[^\\x00-\\x7F]',  text):\n",
    "        return False\n",
    "    try:\n",
    "        ast.literal_eval(text)\n",
    "        return True\n",
    "    except:\n",
    "        return False"
   ]
  },
  {
   "cell_type": "code",
   "execution_count": 26,
   "id": "0a46bc44",
   "metadata": {},
   "outputs": [
    {
     "data": {
      "text/plain": [
       "np.int64(12223)"
      ]
     },
     "execution_count": 26,
     "metadata": {},
     "output_type": "execute_result"
    }
   ],
   "source": [
    "data_df.Text.apply(is_legal_text).sum()"
   ]
  },
  {
   "cell_type": "code",
   "execution_count": 27,
   "id": "33f36243",
   "metadata": {},
   "outputs": [
    {
     "data": {
      "text/html": [
       "<div>\n",
       "<style scoped>\n",
       "    .dataframe tbody tr th:only-of-type {\n",
       "        vertical-align: middle;\n",
       "    }\n",
       "\n",
       "    .dataframe tbody tr th {\n",
       "        vertical-align: top;\n",
       "    }\n",
       "\n",
       "    .dataframe thead th {\n",
       "        text-align: right;\n",
       "    }\n",
       "</style>\n",
       "<table border=\"1\" class=\"dataframe\">\n",
       "  <thead>\n",
       "    <tr style=\"text-align: right;\">\n",
       "      <th></th>\n",
       "      <th>Title</th>\n",
       "      <th>Source</th>\n",
       "      <th>Time</th>\n",
       "      <th>Year</th>\n",
       "      <th>Month</th>\n",
       "      <th>Day</th>\n",
       "      <th>Text</th>\n",
       "    </tr>\n",
       "  </thead>\n",
       "  <tbody>\n",
       "    <tr>\n",
       "      <th>0</th>\n",
       "      <td>War criminal walking around in plain sight</td>\n",
       "      <td>The Calgary Herald (Alberta)</td>\n",
       "      <td>March 19, 2012 Monday</td>\n",
       "      <td>2012</td>\n",
       "      <td>March</td>\n",
       "      <td>19</td>\n",
       "      <td>['The International Criminal Court has reached...</td>\n",
       "    </tr>\n",
       "    <tr>\n",
       "      <th>1</th>\n",
       "      <td>UN warns of growing attacks in Central Africa</td>\n",
       "      <td>IBNS</td>\n",
       "      <td>March 31, 2012 Saturday 6:30 AM EST</td>\n",
       "      <td>2012</td>\n",
       "      <td>March</td>\n",
       "      <td>31</td>\n",
       "      <td>[\"Geneva, Mar 31 (IBNS) The United Nations ref...</td>\n",
       "    </tr>\n",
       "    <tr>\n",
       "      <th>3</th>\n",
       "      <td>Review: COVER STORY: KONY 2012: What happened ...</td>\n",
       "      <td>The Observer (London)</td>\n",
       "      <td>15-Jul-12</td>\n",
       "      <td>2012</td>\n",
       "      <td>July</td>\n",
       "      <td>15</td>\n",
       "      <td>['For 25 years, Joseph Kony and his Lord\\'s Re...</td>\n",
       "    </tr>\n",
       "    <tr>\n",
       "      <th>4</th>\n",
       "      <td>Uganda 's war-scarred north set for peacetime ...</td>\n",
       "      <td>Agence France Presse -- English</td>\n",
       "      <td>February 15, 2011 Tuesday 9:21 AM GMT</td>\n",
       "      <td>2011</td>\n",
       "      <td>February</td>\n",
       "      <td>15</td>\n",
       "      <td>['Displaced northern Ugandans have flocked hom...</td>\n",
       "    </tr>\n",
       "    <tr>\n",
       "      <th>6</th>\n",
       "      <td>BRITISH SAFARI MAN ACCUSED OF MASS MURDER 'FRAMED</td>\n",
       "      <td>MAIL ON SUNDAY (London)</td>\n",
       "      <td>May 13, 2012 Sunday</td>\n",
       "      <td>2012</td>\n",
       "      <td>May</td>\n",
       "      <td>13</td>\n",
       "      <td>[\"LOCAL POACHERS'\", 'FROM TIMOTHY EVANS IN BAN...</td>\n",
       "    </tr>\n",
       "  </tbody>\n",
       "</table>\n",
       "</div>"
      ],
      "text/plain": [
       "                                               Title  \\\n",
       "0         War criminal walking around in plain sight   \n",
       "1      UN warns of growing attacks in Central Africa   \n",
       "3  Review: COVER STORY: KONY 2012: What happened ...   \n",
       "4  Uganda 's war-scarred north set for peacetime ...   \n",
       "6  BRITISH SAFARI MAN ACCUSED OF MASS MURDER 'FRAMED   \n",
       "\n",
       "                            Source                                   Time  \\\n",
       "0     The Calgary Herald (Alberta)                  March 19, 2012 Monday   \n",
       "1                             IBNS    March 31, 2012 Saturday 6:30 AM EST   \n",
       "3            The Observer (London)                              15-Jul-12   \n",
       "4  Agence France Presse -- English  February 15, 2011 Tuesday 9:21 AM GMT   \n",
       "6          MAIL ON SUNDAY (London)                    May 13, 2012 Sunday   \n",
       "\n",
       "   Year     Month  Day                                               Text  \n",
       "0  2012     March   19  ['The International Criminal Court has reached...  \n",
       "1  2012     March   31  [\"Geneva, Mar 31 (IBNS) The United Nations ref...  \n",
       "3  2012      July   15  ['For 25 years, Joseph Kony and his Lord\\'s Re...  \n",
       "4  2011  February   15  ['Displaced northern Ugandans have flocked hom...  \n",
       "6  2012       May   13  [\"LOCAL POACHERS'\", 'FROM TIMOTHY EVANS IN BAN...  "
      ]
     },
     "execution_count": 27,
     "metadata": {},
     "output_type": "execute_result"
    }
   ],
   "source": [
    "data_df = data_df.loc[data_df.Text.apply(is_legal_text)]\n",
    "data_df.head()"
   ]
  },
  {
   "cell_type": "code",
   "execution_count": 28,
   "id": "21396db3",
   "metadata": {},
   "outputs": [
    {
     "data": {
      "text/html": [
       "<div>\n",
       "<style scoped>\n",
       "    .dataframe tbody tr th:only-of-type {\n",
       "        vertical-align: middle;\n",
       "    }\n",
       "\n",
       "    .dataframe tbody tr th {\n",
       "        vertical-align: top;\n",
       "    }\n",
       "\n",
       "    .dataframe thead th {\n",
       "        text-align: right;\n",
       "    }\n",
       "</style>\n",
       "<table border=\"1\" class=\"dataframe\">\n",
       "  <thead>\n",
       "    <tr style=\"text-align: right;\">\n",
       "      <th></th>\n",
       "      <th>Title</th>\n",
       "      <th>Source</th>\n",
       "      <th>Time</th>\n",
       "      <th>Year</th>\n",
       "      <th>Month</th>\n",
       "      <th>Day</th>\n",
       "      <th>Text</th>\n",
       "    </tr>\n",
       "  </thead>\n",
       "  <tbody>\n",
       "    <tr>\n",
       "      <th>0</th>\n",
       "      <td>War criminal walking around in plain sight</td>\n",
       "      <td>The Calgary Herald (Alberta)</td>\n",
       "      <td>March 19, 2012 Monday</td>\n",
       "      <td>2012</td>\n",
       "      <td>March</td>\n",
       "      <td>19</td>\n",
       "      <td>['The International Criminal Court has reached...</td>\n",
       "    </tr>\n",
       "    <tr>\n",
       "      <th>1</th>\n",
       "      <td>UN warns of growing attacks in Central Africa</td>\n",
       "      <td>IBNS</td>\n",
       "      <td>March 31, 2012 Saturday 6:30 AM EST</td>\n",
       "      <td>2012</td>\n",
       "      <td>March</td>\n",
       "      <td>31</td>\n",
       "      <td>[\"Geneva, Mar 31 (IBNS) The United Nations ref...</td>\n",
       "    </tr>\n",
       "    <tr>\n",
       "      <th>2</th>\n",
       "      <td>Review: COVER STORY: KONY 2012: What happened ...</td>\n",
       "      <td>The Observer (London)</td>\n",
       "      <td>15-Jul-12</td>\n",
       "      <td>2012</td>\n",
       "      <td>July</td>\n",
       "      <td>15</td>\n",
       "      <td>['For 25 years, Joseph Kony and his Lord\\'s Re...</td>\n",
       "    </tr>\n",
       "    <tr>\n",
       "      <th>3</th>\n",
       "      <td>Uganda 's war-scarred north set for peacetime ...</td>\n",
       "      <td>Agence France Presse -- English</td>\n",
       "      <td>February 15, 2011 Tuesday 9:21 AM GMT</td>\n",
       "      <td>2011</td>\n",
       "      <td>February</td>\n",
       "      <td>15</td>\n",
       "      <td>['Displaced northern Ugandans have flocked hom...</td>\n",
       "    </tr>\n",
       "    <tr>\n",
       "      <th>4</th>\n",
       "      <td>BRITISH SAFARI MAN ACCUSED OF MASS MURDER 'FRAMED</td>\n",
       "      <td>MAIL ON SUNDAY (London)</td>\n",
       "      <td>May 13, 2012 Sunday</td>\n",
       "      <td>2012</td>\n",
       "      <td>May</td>\n",
       "      <td>13</td>\n",
       "      <td>[\"LOCAL POACHERS'\", 'FROM TIMOTHY EVANS IN BAN...</td>\n",
       "    </tr>\n",
       "  </tbody>\n",
       "</table>\n",
       "</div>"
      ],
      "text/plain": [
       "                                               Title  \\\n",
       "0         War criminal walking around in plain sight   \n",
       "1      UN warns of growing attacks in Central Africa   \n",
       "2  Review: COVER STORY: KONY 2012: What happened ...   \n",
       "3  Uganda 's war-scarred north set for peacetime ...   \n",
       "4  BRITISH SAFARI MAN ACCUSED OF MASS MURDER 'FRAMED   \n",
       "\n",
       "                            Source                                   Time  \\\n",
       "0     The Calgary Herald (Alberta)                  March 19, 2012 Monday   \n",
       "1                             IBNS    March 31, 2012 Saturday 6:30 AM EST   \n",
       "2            The Observer (London)                              15-Jul-12   \n",
       "3  Agence France Presse -- English  February 15, 2011 Tuesday 9:21 AM GMT   \n",
       "4          MAIL ON SUNDAY (London)                    May 13, 2012 Sunday   \n",
       "\n",
       "   Year     Month  Day                                               Text  \n",
       "0  2012     March   19  ['The International Criminal Court has reached...  \n",
       "1  2012     March   31  [\"Geneva, Mar 31 (IBNS) The United Nations ref...  \n",
       "2  2012      July   15  ['For 25 years, Joseph Kony and his Lord\\'s Re...  \n",
       "3  2011  February   15  ['Displaced northern Ugandans have flocked hom...  \n",
       "4  2012       May   13  [\"LOCAL POACHERS'\", 'FROM TIMOTHY EVANS IN BAN...  "
      ]
     },
     "execution_count": 28,
     "metadata": {},
     "output_type": "execute_result"
    }
   ],
   "source": [
    "data_df.reset_index(drop=True, inplace=True)\n",
    "data_df.head()"
   ]
  },
  {
   "cell_type": "code",
   "execution_count": 29,
   "id": "9153113c",
   "metadata": {},
   "outputs": [],
   "source": [
    "# # 保存去除非法编码后的数据\n",
    "# data_df.to_csv('./data/Lexis-Nexis_LRA_cleaned_0.csv', index=False)"
   ]
  },
  {
   "cell_type": "code",
   "execution_count": 30,
   "id": "dd6a4984",
   "metadata": {},
   "outputs": [],
   "source": [
    "# # 将Unicode转换为纯ASCII以限制输入\n",
    "# # 将Unicode字符串替换为ASCII并只允许一小部分允许的字符\n",
    "# # 使用 “_” 表示非词汇表的字符与模型未处理字符\n",
    "# allowed_characters = string.ascii_letters + string.digits + \".,;\" + \"_\"\n",
    "# n_letters = len(allowed_characters)\n",
    "# n_letters"
   ]
  },
  {
   "cell_type": "code",
   "execution_count": 31,
   "id": "62286183",
   "metadata": {},
   "outputs": [],
   "source": [
    "# # 删除Python unicode字符串中的重音符号\n",
    "# # REF https://stackoverflow.com/a/518232/2809427\n",
    "# def unicodeToAscii(s):\n",
    "#     return ''.join(\n",
    "#         c for c in unicodedata.normalize('NFD', s)\n",
    "#         if unicodedata.category(c) != 'Mn'\n",
    "#         and c in allowed_characters\n",
    "#     )"
   ]
  },
  {
   "cell_type": "markdown",
   "id": "0e9d546a",
   "metadata": {},
   "source": [
    "## 1.1. 过滤可用的报告\n",
    "\n",
    "<!-- \n",
    "(1) “PF_score”，报告提到伙伴部队的成功 - 0  \n",
    "(2) “PF_US”，报告提到美国与伙伴部队合作 - 0  \n",
    "(3) “PF_neg”，报告美国伙伴部队的负面情况 - 0\n",
    "(4) “Threat_up”，报告提到上帝抵抗军的威胁增加 - 1  \n",
    "(5) “Threat_down”，上帝抵抗军的威胁是否减少 - 0  \n",
    "(6) “Citizen_impact”，公民是否受到上帝抵抗军暴力的影响 - 1  \n",
    " -->\n"
   ]
  },
  {
   "cell_type": "code",
   "execution_count": 32,
   "id": "b1ac6d2f",
   "metadata": {},
   "outputs": [
    {
     "data": {
      "text/html": [
       "<div>\n",
       "<style scoped>\n",
       "    .dataframe tbody tr th:only-of-type {\n",
       "        vertical-align: middle;\n",
       "    }\n",
       "\n",
       "    .dataframe tbody tr th {\n",
       "        vertical-align: top;\n",
       "    }\n",
       "\n",
       "    .dataframe thead th {\n",
       "        text-align: right;\n",
       "    }\n",
       "</style>\n",
       "<table border=\"1\" class=\"dataframe\">\n",
       "  <thead>\n",
       "    <tr style=\"text-align: right;\">\n",
       "      <th></th>\n",
       "      <th>Title</th>\n",
       "      <th>Source</th>\n",
       "      <th>Time</th>\n",
       "      <th>Year</th>\n",
       "      <th>Month</th>\n",
       "      <th>Day</th>\n",
       "      <th>Text</th>\n",
       "    </tr>\n",
       "  </thead>\n",
       "  <tbody>\n",
       "    <tr>\n",
       "      <th>0</th>\n",
       "      <td>War criminal walking around in plain sight</td>\n",
       "      <td>The Calgary Herald (Alberta)</td>\n",
       "      <td>March 19, 2012 Monday</td>\n",
       "      <td>2012</td>\n",
       "      <td>March</td>\n",
       "      <td>19</td>\n",
       "      <td>['The International Criminal Court has reached...</td>\n",
       "    </tr>\n",
       "    <tr>\n",
       "      <th>1</th>\n",
       "      <td>UN warns of growing attacks in Central Africa</td>\n",
       "      <td>IBNS</td>\n",
       "      <td>March 31, 2012 Saturday 6:30 AM EST</td>\n",
       "      <td>2012</td>\n",
       "      <td>March</td>\n",
       "      <td>31</td>\n",
       "      <td>[\"Geneva, Mar 31 (IBNS) The United Nations ref...</td>\n",
       "    </tr>\n",
       "    <tr>\n",
       "      <th>2</th>\n",
       "      <td>Review: COVER STORY: KONY 2012: What happened ...</td>\n",
       "      <td>The Observer (London)</td>\n",
       "      <td>15-Jul-12</td>\n",
       "      <td>2012</td>\n",
       "      <td>July</td>\n",
       "      <td>15</td>\n",
       "      <td>['For 25 years, Joseph Kony and his Lord\\'s Re...</td>\n",
       "    </tr>\n",
       "    <tr>\n",
       "      <th>3</th>\n",
       "      <td>Uganda 's war-scarred north set for peacetime ...</td>\n",
       "      <td>Agence France Presse -- English</td>\n",
       "      <td>February 15, 2011 Tuesday 9:21 AM GMT</td>\n",
       "      <td>2011</td>\n",
       "      <td>February</td>\n",
       "      <td>15</td>\n",
       "      <td>['Displaced northern Ugandans have flocked hom...</td>\n",
       "    </tr>\n",
       "    <tr>\n",
       "      <th>4</th>\n",
       "      <td>BRITISH SAFARI MAN ACCUSED OF MASS MURDER 'FRAMED</td>\n",
       "      <td>MAIL ON SUNDAY (London)</td>\n",
       "      <td>May 13, 2012 Sunday</td>\n",
       "      <td>2012</td>\n",
       "      <td>May</td>\n",
       "      <td>13</td>\n",
       "      <td>[\"LOCAL POACHERS'\", 'FROM TIMOTHY EVANS IN BAN...</td>\n",
       "    </tr>\n",
       "  </tbody>\n",
       "</table>\n",
       "</div>"
      ],
      "text/plain": [
       "                                               Title  \\\n",
       "0         War criminal walking around in plain sight   \n",
       "1      UN warns of growing attacks in Central Africa   \n",
       "2  Review: COVER STORY: KONY 2012: What happened ...   \n",
       "3  Uganda 's war-scarred north set for peacetime ...   \n",
       "4  BRITISH SAFARI MAN ACCUSED OF MASS MURDER 'FRAMED   \n",
       "\n",
       "                            Source                                   Time  \\\n",
       "0     The Calgary Herald (Alberta)                  March 19, 2012 Monday   \n",
       "1                             IBNS    March 31, 2012 Saturday 6:30 AM EST   \n",
       "2            The Observer (London)                              15-Jul-12   \n",
       "3  Agence France Presse -- English  February 15, 2011 Tuesday 9:21 AM GMT   \n",
       "4          MAIL ON SUNDAY (London)                    May 13, 2012 Sunday   \n",
       "\n",
       "   Year     Month  Day                                               Text  \n",
       "0  2012     March   19  ['The International Criminal Court has reached...  \n",
       "1  2012     March   31  [\"Geneva, Mar 31 (IBNS) The United Nations ref...  \n",
       "2  2012      July   15  ['For 25 years, Joseph Kony and his Lord\\'s Re...  \n",
       "3  2011  February   15  ['Displaced northern Ugandans have flocked hom...  \n",
       "4  2012       May   13  [\"LOCAL POACHERS'\", 'FROM TIMOTHY EVANS IN BAN...  "
      ]
     },
     "execution_count": 32,
     "metadata": {},
     "output_type": "execute_result"
    }
   ],
   "source": [
    "data_df = pd.read_csv('./data/Lexis-Nexis_LRA_cleaned_0.csv')\n",
    "data_df.head()"
   ]
  },
  {
   "cell_type": "code",
   "execution_count": 33,
   "id": "6f0a7540",
   "metadata": {},
   "outputs": [
    {
     "data": {
      "text/html": [
       "<div>\n",
       "<style scoped>\n",
       "    .dataframe tbody tr th:only-of-type {\n",
       "        vertical-align: middle;\n",
       "    }\n",
       "\n",
       "    .dataframe tbody tr th {\n",
       "        vertical-align: top;\n",
       "    }\n",
       "\n",
       "    .dataframe thead th {\n",
       "        text-align: right;\n",
       "    }\n",
       "</style>\n",
       "<table border=\"1\" class=\"dataframe\">\n",
       "  <thead>\n",
       "    <tr style=\"text-align: right;\">\n",
       "      <th></th>\n",
       "      <th>Title</th>\n",
       "      <th>Source</th>\n",
       "      <th>Time</th>\n",
       "      <th>Year</th>\n",
       "      <th>Month</th>\n",
       "      <th>Day</th>\n",
       "      <th>Text</th>\n",
       "    </tr>\n",
       "  </thead>\n",
       "  <tbody>\n",
       "    <tr>\n",
       "      <th>0</th>\n",
       "      <td>War criminal walking around in plain sight</td>\n",
       "      <td>The Calgary Herald (Alberta)</td>\n",
       "      <td>March 19, 2012 Monday</td>\n",
       "      <td>2012</td>\n",
       "      <td>March</td>\n",
       "      <td>19</td>\n",
       "      <td>[The International Criminal Court has reached ...</td>\n",
       "    </tr>\n",
       "    <tr>\n",
       "      <th>1</th>\n",
       "      <td>UN warns of growing attacks in Central Africa</td>\n",
       "      <td>IBNS</td>\n",
       "      <td>March 31, 2012 Saturday 6:30 AM EST</td>\n",
       "      <td>2012</td>\n",
       "      <td>March</td>\n",
       "      <td>31</td>\n",
       "      <td>[Geneva, Mar 31 (IBNS) The United Nations refu...</td>\n",
       "    </tr>\n",
       "    <tr>\n",
       "      <th>2</th>\n",
       "      <td>Review: COVER STORY: KONY 2012: What happened ...</td>\n",
       "      <td>The Observer (London)</td>\n",
       "      <td>15-Jul-12</td>\n",
       "      <td>2012</td>\n",
       "      <td>July</td>\n",
       "      <td>15</td>\n",
       "      <td>[For 25 years, Joseph Kony and his Lord's Resi...</td>\n",
       "    </tr>\n",
       "    <tr>\n",
       "      <th>3</th>\n",
       "      <td>Uganda 's war-scarred north set for peacetime ...</td>\n",
       "      <td>Agence France Presse -- English</td>\n",
       "      <td>February 15, 2011 Tuesday 9:21 AM GMT</td>\n",
       "      <td>2011</td>\n",
       "      <td>February</td>\n",
       "      <td>15</td>\n",
       "      <td>[Displaced northern Ugandans have flocked home...</td>\n",
       "    </tr>\n",
       "    <tr>\n",
       "      <th>4</th>\n",
       "      <td>BRITISH SAFARI MAN ACCUSED OF MASS MURDER 'FRAMED</td>\n",
       "      <td>MAIL ON SUNDAY (London)</td>\n",
       "      <td>May 13, 2012 Sunday</td>\n",
       "      <td>2012</td>\n",
       "      <td>May</td>\n",
       "      <td>13</td>\n",
       "      <td>[LOCAL POACHERS', FROM TIMOTHY EVANS IN BANGUI...</td>\n",
       "    </tr>\n",
       "  </tbody>\n",
       "</table>\n",
       "</div>"
      ],
      "text/plain": [
       "                                               Title  \\\n",
       "0         War criminal walking around in plain sight   \n",
       "1      UN warns of growing attacks in Central Africa   \n",
       "2  Review: COVER STORY: KONY 2012: What happened ...   \n",
       "3  Uganda 's war-scarred north set for peacetime ...   \n",
       "4  BRITISH SAFARI MAN ACCUSED OF MASS MURDER 'FRAMED   \n",
       "\n",
       "                            Source                                   Time  \\\n",
       "0     The Calgary Herald (Alberta)                  March 19, 2012 Monday   \n",
       "1                             IBNS    March 31, 2012 Saturday 6:30 AM EST   \n",
       "2            The Observer (London)                              15-Jul-12   \n",
       "3  Agence France Presse -- English  February 15, 2011 Tuesday 9:21 AM GMT   \n",
       "4          MAIL ON SUNDAY (London)                    May 13, 2012 Sunday   \n",
       "\n",
       "   Year     Month  Day                                               Text  \n",
       "0  2012     March   19  [The International Criminal Court has reached ...  \n",
       "1  2012     March   31  [Geneva, Mar 31 (IBNS) The United Nations refu...  \n",
       "2  2012      July   15  [For 25 years, Joseph Kony and his Lord's Resi...  \n",
       "3  2011  February   15  [Displaced northern Ugandans have flocked home...  \n",
       "4  2012       May   13  [LOCAL POACHERS', FROM TIMOTHY EVANS IN BANGUI...  "
      ]
     },
     "execution_count": 33,
     "metadata": {},
     "output_type": "execute_result"
    }
   ],
   "source": [
    "data_df.Text = data_df.Text.apply(ast.literal_eval)\n",
    "data_df.head()"
   ]
  },
  {
   "cell_type": "code",
   "execution_count": 34,
   "id": "852520b7",
   "metadata": {},
   "outputs": [],
   "source": [
    "def abstract_text(text, target):\n",
    "    matches = list(\n",
    "        map(\n",
    "            lambda s: any(map(lambda t: t in s, target)),\n",
    "            text\n",
    "        )\n",
    "    )\n",
    "    return list(\n",
    "        map(\n",
    "            lambda _: any(_),\n",
    "            zip(\n",
    "                matches, [False] + matches[:-1], matches[1:] + [False]\n",
    "            )\n",
    "        )\n",
    "    )"
   ]
  },
  {
   "cell_type": "markdown",
   "id": "e91b780e",
   "metadata": {},
   "source": [
    "- 伙伴部队\n",
    "<!-- \n",
    "乌干达人民国防军 - Uganda\n",
    "苏丹人民解放军 - Sudan\n",
    "中非武装部队 - Central African Republic, CAR\n",
    "刚果民主共和国武装部队 - Democratic Republic of the Congo, DRC\n",
    " -->\n",
    "\n"
   ]
  },
  {
   "cell_type": "code",
   "execution_count": 35,
   "id": "1ec3cda0",
   "metadata": {},
   "outputs": [],
   "source": [
    "PF_targets = [\n",
    "    (\"Uganda\",),\n",
    "    (\"Sudan\",),\n",
    "    (\"Central African Republic\", \"CAR\"),\n",
    "    (\"Democratic Republic of the Congo\", \"DRC\",),\n",
    "]"
   ]
  },
  {
   "cell_type": "code",
   "execution_count": 36,
   "id": "982c8663",
   "metadata": {},
   "outputs": [
    {
     "data": {
      "text/html": [
       "<div>\n",
       "<style scoped>\n",
       "    .dataframe tbody tr th:only-of-type {\n",
       "        vertical-align: middle;\n",
       "    }\n",
       "\n",
       "    .dataframe tbody tr th {\n",
       "        vertical-align: top;\n",
       "    }\n",
       "\n",
       "    .dataframe thead th {\n",
       "        text-align: right;\n",
       "    }\n",
       "</style>\n",
       "<table border=\"1\" class=\"dataframe\">\n",
       "  <thead>\n",
       "    <tr style=\"text-align: right;\">\n",
       "      <th></th>\n",
       "      <th>Title</th>\n",
       "      <th>Source</th>\n",
       "      <th>Time</th>\n",
       "      <th>Year</th>\n",
       "      <th>Month</th>\n",
       "      <th>Day</th>\n",
       "      <th>Text</th>\n",
       "    </tr>\n",
       "  </thead>\n",
       "  <tbody>\n",
       "    <tr>\n",
       "      <th>0</th>\n",
       "      <td>War criminal walking around in plain sight</td>\n",
       "      <td>The Calgary Herald (Alberta)</td>\n",
       "      <td>March 19, 2012 Monday</td>\n",
       "      <td>2012</td>\n",
       "      <td>March</td>\n",
       "      <td>19</td>\n",
       "      <td>[The International Criminal Court has reached ...</td>\n",
       "    </tr>\n",
       "    <tr>\n",
       "      <th>1</th>\n",
       "      <td>UN warns of growing attacks in Central Africa</td>\n",
       "      <td>IBNS</td>\n",
       "      <td>March 31, 2012 Saturday 6:30 AM EST</td>\n",
       "      <td>2012</td>\n",
       "      <td>March</td>\n",
       "      <td>31</td>\n",
       "      <td>[Geneva, Mar 31 (IBNS) The United Nations refu...</td>\n",
       "    </tr>\n",
       "    <tr>\n",
       "      <th>3</th>\n",
       "      <td>Uganda 's war-scarred north set for peacetime ...</td>\n",
       "      <td>Agence France Presse -- English</td>\n",
       "      <td>February 15, 2011 Tuesday 9:21 AM GMT</td>\n",
       "      <td>2011</td>\n",
       "      <td>February</td>\n",
       "      <td>15</td>\n",
       "      <td>[Displaced northern Ugandans have flocked home...</td>\n",
       "    </tr>\n",
       "    <tr>\n",
       "      <th>4</th>\n",
       "      <td>BRITISH SAFARI MAN ACCUSED OF MASS MURDER 'FRAMED</td>\n",
       "      <td>MAIL ON SUNDAY (London)</td>\n",
       "      <td>May 13, 2012 Sunday</td>\n",
       "      <td>2012</td>\n",
       "      <td>May</td>\n",
       "      <td>13</td>\n",
       "      <td>[LOCAL POACHERS', FROM TIMOTHY EVANS IN BANGUI...</td>\n",
       "    </tr>\n",
       "    <tr>\n",
       "      <th>5</th>\n",
       "      <td>National Security Sudan</td>\n",
       "      <td>CountryWatch Reviews</td>\n",
       "      <td>9-Dec-17</td>\n",
       "      <td>2017</td>\n",
       "      <td>December</td>\n",
       "      <td>0</td>\n",
       "      <td>[External Threats, The Sudanese government is ...</td>\n",
       "    </tr>\n",
       "  </tbody>\n",
       "</table>\n",
       "</div>"
      ],
      "text/plain": [
       "                                               Title  \\\n",
       "0         War criminal walking around in plain sight   \n",
       "1      UN warns of growing attacks in Central Africa   \n",
       "3  Uganda 's war-scarred north set for peacetime ...   \n",
       "4  BRITISH SAFARI MAN ACCUSED OF MASS MURDER 'FRAMED   \n",
       "5                            National Security Sudan   \n",
       "\n",
       "                            Source                                   Time  \\\n",
       "0     The Calgary Herald (Alberta)                  March 19, 2012 Monday   \n",
       "1                             IBNS    March 31, 2012 Saturday 6:30 AM EST   \n",
       "3  Agence France Presse -- English  February 15, 2011 Tuesday 9:21 AM GMT   \n",
       "4          MAIL ON SUNDAY (London)                    May 13, 2012 Sunday   \n",
       "5             CountryWatch Reviews                               9-Dec-17   \n",
       "\n",
       "   Year     Month  Day                                               Text  \n",
       "0  2012     March   19  [The International Criminal Court has reached ...  \n",
       "1  2012     March   31  [Geneva, Mar 31 (IBNS) The United Nations refu...  \n",
       "3  2011  February   15  [Displaced northern Ugandans have flocked home...  \n",
       "4  2012       May   13  [LOCAL POACHERS', FROM TIMOTHY EVANS IN BANGUI...  \n",
       "5  2017  December    0  [External Threats, The Sudanese government is ...  "
      ]
     },
     "execution_count": 36,
     "metadata": {},
     "output_type": "execute_result"
    }
   ],
   "source": [
    "PF_matched = data_df.Text.apply(lambda s: abstract_text(s, PF_targets[0])).apply(lambda x: any(x))\n",
    "for PF_target in PF_targets[1:]:\n",
    "    PF_matched |= data_df.Text.apply(lambda s: abstract_text(s, PF_target)).apply(lambda x: any(x))\n",
    "PF_df = data_df.loc[PF_matched]\n",
    "PF_df.head()"
   ]
  },
  {
   "cell_type": "code",
   "execution_count": 37,
   "id": "1511ff0a",
   "metadata": {},
   "outputs": [
    {
     "data": {
      "text/plain": [
       "(11037, 7)"
      ]
     },
     "execution_count": 37,
     "metadata": {},
     "output_type": "execute_result"
    }
   ],
   "source": [
    "PF_df.shape"
   ]
  },
  {
   "cell_type": "code",
   "execution_count": 38,
   "id": "1cb05821",
   "metadata": {},
   "outputs": [],
   "source": [
    "# PF_df.reset_index(drop=True, inplace=True)\n",
    "# PF_df.to_csv('./data/PF_matched.csv', index=False)"
   ]
  },
  {
   "cell_type": "markdown",
   "id": "f5b84dd0",
   "metadata": {},
   "source": [
    "- 上帝抵抗军\n",
    "<!-- \n",
    "上帝抵抗军 - Lord's Resistance Army, LRA\n",
    " -->"
   ]
  },
  {
   "cell_type": "code",
   "execution_count": 39,
   "id": "ac3976e7",
   "metadata": {},
   "outputs": [],
   "source": [
    "LRA_targets = [\n",
    "    (\"Lord's Resistance Army\", \"LRA\",),\n",
    "]"
   ]
  },
  {
   "cell_type": "code",
   "execution_count": 40,
   "id": "2dfddbfa",
   "metadata": {},
   "outputs": [
    {
     "data": {
      "text/html": [
       "<div>\n",
       "<style scoped>\n",
       "    .dataframe tbody tr th:only-of-type {\n",
       "        vertical-align: middle;\n",
       "    }\n",
       "\n",
       "    .dataframe tbody tr th {\n",
       "        vertical-align: top;\n",
       "    }\n",
       "\n",
       "    .dataframe thead th {\n",
       "        text-align: right;\n",
       "    }\n",
       "</style>\n",
       "<table border=\"1\" class=\"dataframe\">\n",
       "  <thead>\n",
       "    <tr style=\"text-align: right;\">\n",
       "      <th></th>\n",
       "      <th>Title</th>\n",
       "      <th>Source</th>\n",
       "      <th>Time</th>\n",
       "      <th>Year</th>\n",
       "      <th>Month</th>\n",
       "      <th>Day</th>\n",
       "      <th>Text</th>\n",
       "    </tr>\n",
       "  </thead>\n",
       "  <tbody>\n",
       "    <tr>\n",
       "      <th>0</th>\n",
       "      <td>War criminal walking around in plain sight</td>\n",
       "      <td>The Calgary Herald (Alberta)</td>\n",
       "      <td>March 19, 2012 Monday</td>\n",
       "      <td>2012</td>\n",
       "      <td>March</td>\n",
       "      <td>19</td>\n",
       "      <td>[The International Criminal Court has reached ...</td>\n",
       "    </tr>\n",
       "    <tr>\n",
       "      <th>1</th>\n",
       "      <td>UN warns of growing attacks in Central Africa</td>\n",
       "      <td>IBNS</td>\n",
       "      <td>March 31, 2012 Saturday 6:30 AM EST</td>\n",
       "      <td>2012</td>\n",
       "      <td>March</td>\n",
       "      <td>31</td>\n",
       "      <td>[Geneva, Mar 31 (IBNS) The United Nations refu...</td>\n",
       "    </tr>\n",
       "    <tr>\n",
       "      <th>2</th>\n",
       "      <td>Review: COVER STORY: KONY 2012: What happened ...</td>\n",
       "      <td>The Observer (London)</td>\n",
       "      <td>15-Jul-12</td>\n",
       "      <td>2012</td>\n",
       "      <td>July</td>\n",
       "      <td>15</td>\n",
       "      <td>[For 25 years, Joseph Kony and his Lord's Resi...</td>\n",
       "    </tr>\n",
       "    <tr>\n",
       "      <th>3</th>\n",
       "      <td>Uganda 's war-scarred north set for peacetime ...</td>\n",
       "      <td>Agence France Presse -- English</td>\n",
       "      <td>February 15, 2011 Tuesday 9:21 AM GMT</td>\n",
       "      <td>2011</td>\n",
       "      <td>February</td>\n",
       "      <td>15</td>\n",
       "      <td>[Displaced northern Ugandans have flocked home...</td>\n",
       "    </tr>\n",
       "    <tr>\n",
       "      <th>4</th>\n",
       "      <td>BRITISH SAFARI MAN ACCUSED OF MASS MURDER 'FRAMED</td>\n",
       "      <td>MAIL ON SUNDAY (London)</td>\n",
       "      <td>May 13, 2012 Sunday</td>\n",
       "      <td>2012</td>\n",
       "      <td>May</td>\n",
       "      <td>13</td>\n",
       "      <td>[LOCAL POACHERS', FROM TIMOTHY EVANS IN BANGUI...</td>\n",
       "    </tr>\n",
       "  </tbody>\n",
       "</table>\n",
       "</div>"
      ],
      "text/plain": [
       "                                               Title  \\\n",
       "0         War criminal walking around in plain sight   \n",
       "1      UN warns of growing attacks in Central Africa   \n",
       "2  Review: COVER STORY: KONY 2012: What happened ...   \n",
       "3  Uganda 's war-scarred north set for peacetime ...   \n",
       "4  BRITISH SAFARI MAN ACCUSED OF MASS MURDER 'FRAMED   \n",
       "\n",
       "                            Source                                   Time  \\\n",
       "0     The Calgary Herald (Alberta)                  March 19, 2012 Monday   \n",
       "1                             IBNS    March 31, 2012 Saturday 6:30 AM EST   \n",
       "2            The Observer (London)                              15-Jul-12   \n",
       "3  Agence France Presse -- English  February 15, 2011 Tuesday 9:21 AM GMT   \n",
       "4          MAIL ON SUNDAY (London)                    May 13, 2012 Sunday   \n",
       "\n",
       "   Year     Month  Day                                               Text  \n",
       "0  2012     March   19  [The International Criminal Court has reached ...  \n",
       "1  2012     March   31  [Geneva, Mar 31 (IBNS) The United Nations refu...  \n",
       "2  2012      July   15  [For 25 years, Joseph Kony and his Lord's Resi...  \n",
       "3  2011  February   15  [Displaced northern Ugandans have flocked home...  \n",
       "4  2012       May   13  [LOCAL POACHERS', FROM TIMOTHY EVANS IN BANGUI...  "
      ]
     },
     "execution_count": 40,
     "metadata": {},
     "output_type": "execute_result"
    }
   ],
   "source": [
    "LRA_matched = data_df.Text.apply(lambda s: abstract_text(s, LRA_targets[0])).apply(lambda x: any(x))\n",
    "for LRA_target in LRA_targets[1:]:\n",
    "    LRA_matched |= data_df.Text.apply(lambda s: abstract_text(s, LRA_target)).apply(lambda x: any(x))\n",
    "LRA_df = data_df.loc[LRA_matched]\n",
    "LRA_df.head()"
   ]
  },
  {
   "cell_type": "code",
   "execution_count": 41,
   "id": "4d065ff2",
   "metadata": {},
   "outputs": [
    {
     "data": {
      "text/plain": [
       "(11616, 7)"
      ]
     },
     "execution_count": 41,
     "metadata": {},
     "output_type": "execute_result"
    }
   ],
   "source": [
    "LRA_df.shape"
   ]
  },
  {
   "cell_type": "code",
   "execution_count": 42,
   "id": "d4bef8e1",
   "metadata": {},
   "outputs": [],
   "source": [
    "# LRA_df.reset_index(drop=True, inplace=True)\n",
    "# LRA_df.to_csv('./data/LRA_matched.csv', index=False)"
   ]
  },
  {
   "cell_type": "markdown",
   "id": "59e7d39f",
   "metadata": {},
   "source": [
    "- 伙伴部队 + 上帝抵抗军"
   ]
  },
  {
   "cell_type": "code",
   "execution_count": 43,
   "id": "9efb3eca",
   "metadata": {},
   "outputs": [],
   "source": [
    "all_targets = [\n",
    "    (\"Uganda\",),\n",
    "    (\"Sudan\",),\n",
    "    (\"Central African Republic\", \"CAR\"),\n",
    "    (\"Democratic Republic of the Congo\", \"DRC\",),\n",
    "] + [\n",
    "    (\"Lord's Resistance Army\", \"LRA\",),\n",
    "]"
   ]
  },
  {
   "cell_type": "code",
   "execution_count": 44,
   "id": "218072f9",
   "metadata": {},
   "outputs": [
    {
     "data": {
      "text/html": [
       "<div>\n",
       "<style scoped>\n",
       "    .dataframe tbody tr th:only-of-type {\n",
       "        vertical-align: middle;\n",
       "    }\n",
       "\n",
       "    .dataframe tbody tr th {\n",
       "        vertical-align: top;\n",
       "    }\n",
       "\n",
       "    .dataframe thead th {\n",
       "        text-align: right;\n",
       "    }\n",
       "</style>\n",
       "<table border=\"1\" class=\"dataframe\">\n",
       "  <thead>\n",
       "    <tr style=\"text-align: right;\">\n",
       "      <th></th>\n",
       "      <th>Title</th>\n",
       "      <th>Source</th>\n",
       "      <th>Time</th>\n",
       "      <th>Year</th>\n",
       "      <th>Month</th>\n",
       "      <th>Day</th>\n",
       "      <th>Text</th>\n",
       "    </tr>\n",
       "  </thead>\n",
       "  <tbody>\n",
       "    <tr>\n",
       "      <th>1</th>\n",
       "      <td>UN warns of growing attacks in Central Africa</td>\n",
       "      <td>IBNS</td>\n",
       "      <td>March 31, 2012 Saturday 6:30 AM EST</td>\n",
       "      <td>2012</td>\n",
       "      <td>March</td>\n",
       "      <td>31</td>\n",
       "      <td>[Geneva, Mar 31 (IBNS) The United Nations refu...</td>\n",
       "    </tr>\n",
       "    <tr>\n",
       "      <th>10</th>\n",
       "      <td>Uganda U.S. Legislator Proposes Crackdown on R...</td>\n",
       "      <td>Africa News</td>\n",
       "      <td>March 1, 2010 Monday</td>\n",
       "      <td>2010</td>\n",
       "      <td>March</td>\n",
       "      <td>0</td>\n",
       "      <td>[American legislators are pushing for a law th...</td>\n",
       "    </tr>\n",
       "    <tr>\n",
       "      <th>20</th>\n",
       "      <td>The Wizard of the Nile, Matthew Green, Portobe...</td>\n",
       "      <td>The Point</td>\n",
       "      <td>1-Apr-16</td>\n",
       "      <td>2016</td>\n",
       "      <td>April</td>\n",
       "      <td>1</td>\n",
       "      <td>[Once again this week Uganda is in the news fo...</td>\n",
       "    </tr>\n",
       "    <tr>\n",
       "      <th>25</th>\n",
       "      <td>US Pushing for New Law Against LRA</td>\n",
       "      <td>The East African (Nairobi)</td>\n",
       "      <td>March 1, 2010 Monday</td>\n",
       "      <td>2010</td>\n",
       "      <td>March</td>\n",
       "      <td>0</td>\n",
       "      <td>[American legislators are pushing for a law th...</td>\n",
       "    </tr>\n",
       "    <tr>\n",
       "      <th>35</th>\n",
       "      <td>AU, UN Take Stand Against Kony</td>\n",
       "      <td>The New Times (Kigali)</td>\n",
       "      <td>April 13, 2012 Friday</td>\n",
       "      <td>2012</td>\n",
       "      <td>April</td>\n",
       "      <td>13</td>\n",
       "      <td>[As Rwanda marks the 18th Anniversary of the 1...</td>\n",
       "    </tr>\n",
       "  </tbody>\n",
       "</table>\n",
       "</div>"
      ],
      "text/plain": [
       "                                                Title  \\\n",
       "1       UN warns of growing attacks in Central Africa   \n",
       "10  Uganda U.S. Legislator Proposes Crackdown on R...   \n",
       "20  The Wizard of the Nile, Matthew Green, Portobe...   \n",
       "25                 US Pushing for New Law Against LRA   \n",
       "35                     AU, UN Take Stand Against Kony   \n",
       "\n",
       "                        Source                                 Time  Year  \\\n",
       "1                         IBNS  March 31, 2012 Saturday 6:30 AM EST  2012   \n",
       "10                 Africa News                 March 1, 2010 Monday  2010   \n",
       "20                   The Point                             1-Apr-16  2016   \n",
       "25  The East African (Nairobi)                 March 1, 2010 Monday  2010   \n",
       "35      The New Times (Kigali)                April 13, 2012 Friday  2012   \n",
       "\n",
       "    Month  Day                                               Text  \n",
       "1   March   31  [Geneva, Mar 31 (IBNS) The United Nations refu...  \n",
       "10  March    0  [American legislators are pushing for a law th...  \n",
       "20  April    1  [Once again this week Uganda is in the news fo...  \n",
       "25  March    0  [American legislators are pushing for a law th...  \n",
       "35  April   13  [As Rwanda marks the 18th Anniversary of the 1...  "
      ]
     },
     "execution_count": 44,
     "metadata": {},
     "output_type": "execute_result"
    }
   ],
   "source": [
    "all_matched = data_df.Text.apply(lambda s: abstract_text(s, all_targets[0])).apply(lambda x: any(x))\n",
    "for all_target in all_targets[1:]:\n",
    "    all_matched &= data_df.Text.apply(lambda s: abstract_text(s, all_target)).apply(lambda x: any(x))\n",
    "all_df = data_df.loc[all_matched]\n",
    "all_df.head()"
   ]
  },
  {
   "cell_type": "code",
   "execution_count": 45,
   "id": "e0386ce3",
   "metadata": {},
   "outputs": [
    {
     "data": {
      "text/plain": [
       "(1329, 7)"
      ]
     },
     "execution_count": 45,
     "metadata": {},
     "output_type": "execute_result"
    }
   ],
   "source": [
    "all_df.shape"
   ]
  },
  {
   "cell_type": "code",
   "execution_count": 46,
   "id": "e90e34a3",
   "metadata": {},
   "outputs": [],
   "source": [
    "# all_df.reset_index(drop=True, inplace=True)\n",
    "# all_df.to_csv('./data/all_matched.csv', index=False)"
   ]
  },
  {
   "cell_type": "markdown",
   "id": "14176cda",
   "metadata": {},
   "source": [
    "## 1.2. 删除不必要的重复\n"
   ]
  },
  {
   "cell_type": "code",
   "execution_count": 47,
   "id": "7dc2cd52",
   "metadata": {},
   "outputs": [
    {
     "data": {
      "text/html": [
       "<div>\n",
       "<style scoped>\n",
       "    .dataframe tbody tr th:only-of-type {\n",
       "        vertical-align: middle;\n",
       "    }\n",
       "\n",
       "    .dataframe tbody tr th {\n",
       "        vertical-align: top;\n",
       "    }\n",
       "\n",
       "    .dataframe thead th {\n",
       "        text-align: right;\n",
       "    }\n",
       "</style>\n",
       "<table border=\"1\" class=\"dataframe\">\n",
       "  <thead>\n",
       "    <tr style=\"text-align: right;\">\n",
       "      <th></th>\n",
       "      <th>Title</th>\n",
       "      <th>Source</th>\n",
       "      <th>Time</th>\n",
       "      <th>Year</th>\n",
       "      <th>Month</th>\n",
       "      <th>Day</th>\n",
       "      <th>Text</th>\n",
       "    </tr>\n",
       "  </thead>\n",
       "  <tbody>\n",
       "    <tr>\n",
       "      <th>0</th>\n",
       "      <td>UN warns of growing attacks in Central Africa</td>\n",
       "      <td>IBNS</td>\n",
       "      <td>March 31, 2012 Saturday 6:30 AM EST</td>\n",
       "      <td>2012</td>\n",
       "      <td>March</td>\n",
       "      <td>31</td>\n",
       "      <td>[\"Geneva, Mar 31 (IBNS) The United Nations ref...</td>\n",
       "    </tr>\n",
       "    <tr>\n",
       "      <th>1</th>\n",
       "      <td>Uganda U.S. Legislator Proposes Crackdown on R...</td>\n",
       "      <td>Africa News</td>\n",
       "      <td>March 1, 2010 Monday</td>\n",
       "      <td>2010</td>\n",
       "      <td>March</td>\n",
       "      <td>0</td>\n",
       "      <td>[\"American legislators are pushing for a law t...</td>\n",
       "    </tr>\n",
       "    <tr>\n",
       "      <th>2</th>\n",
       "      <td>The Wizard of the Nile, Matthew Green, Portobe...</td>\n",
       "      <td>The Point</td>\n",
       "      <td>1-Apr-16</td>\n",
       "      <td>2016</td>\n",
       "      <td>April</td>\n",
       "      <td>1</td>\n",
       "      <td>[\"Once again this week Uganda is in the news f...</td>\n",
       "    </tr>\n",
       "    <tr>\n",
       "      <th>3</th>\n",
       "      <td>US Pushing for New Law Against LRA</td>\n",
       "      <td>The East African (Nairobi)</td>\n",
       "      <td>March 1, 2010 Monday</td>\n",
       "      <td>2010</td>\n",
       "      <td>March</td>\n",
       "      <td>0</td>\n",
       "      <td>[\"American legislators are pushing for a law t...</td>\n",
       "    </tr>\n",
       "    <tr>\n",
       "      <th>4</th>\n",
       "      <td>AU, UN Take Stand Against Kony</td>\n",
       "      <td>The New Times (Kigali)</td>\n",
       "      <td>April 13, 2012 Friday</td>\n",
       "      <td>2012</td>\n",
       "      <td>April</td>\n",
       "      <td>13</td>\n",
       "      <td>[\"As Rwanda marks the 18th Anniversary of the ...</td>\n",
       "    </tr>\n",
       "  </tbody>\n",
       "</table>\n",
       "</div>"
      ],
      "text/plain": [
       "                                               Title  \\\n",
       "0      UN warns of growing attacks in Central Africa   \n",
       "1  Uganda U.S. Legislator Proposes Crackdown on R...   \n",
       "2  The Wizard of the Nile, Matthew Green, Portobe...   \n",
       "3                 US Pushing for New Law Against LRA   \n",
       "4                     AU, UN Take Stand Against Kony   \n",
       "\n",
       "                       Source                                 Time  Year  \\\n",
       "0                        IBNS  March 31, 2012 Saturday 6:30 AM EST  2012   \n",
       "1                 Africa News                 March 1, 2010 Monday  2010   \n",
       "2                   The Point                             1-Apr-16  2016   \n",
       "3  The East African (Nairobi)                 March 1, 2010 Monday  2010   \n",
       "4      The New Times (Kigali)                April 13, 2012 Friday  2012   \n",
       "\n",
       "   Month  Day                                               Text  \n",
       "0  March   31  [\"Geneva, Mar 31 (IBNS) The United Nations ref...  \n",
       "1  March    0  [\"American legislators are pushing for a law t...  \n",
       "2  April    1  [\"Once again this week Uganda is in the news f...  \n",
       "3  March    0  [\"American legislators are pushing for a law t...  \n",
       "4  April   13  [\"As Rwanda marks the 18th Anniversary of the ...  "
      ]
     },
     "execution_count": 47,
     "metadata": {},
     "output_type": "execute_result"
    }
   ],
   "source": [
    "all_df = pd.read_csv('./data/all_matched.csv')\n",
    "all_df.head()"
   ]
  },
  {
   "cell_type": "code",
   "execution_count": 48,
   "id": "7458ccc3",
   "metadata": {},
   "outputs": [
    {
     "data": {
      "text/plain": [
       "(1329, 7)"
      ]
     },
     "execution_count": 48,
     "metadata": {},
     "output_type": "execute_result"
    }
   ],
   "source": [
    "all_df.shape"
   ]
  },
  {
   "cell_type": "code",
   "execution_count": 49,
   "id": "c6d6beb3",
   "metadata": {},
   "outputs": [
    {
     "data": {
      "text/plain": [
       "(1157, 7)"
      ]
     },
     "execution_count": 49,
     "metadata": {},
     "output_type": "execute_result"
    }
   ],
   "source": [
    "diverse_df = all_df.loc[all_df.Text.duplicated() ^ True]\n",
    "diverse_df.shape"
   ]
  },
  {
   "cell_type": "code",
   "execution_count": 50,
   "id": "95b99930",
   "metadata": {},
   "outputs": [],
   "source": [
    "# diverse_df.reset_index(drop=True, inplace=True)\n",
    "# diverse_df.to_csv('./data/diverse_all_matched.csv', index=False)"
   ]
  },
  {
   "cell_type": "markdown",
   "id": "7eb1686c",
   "metadata": {},
   "source": [
    "## 1.3. 重新组织数据\n"
   ]
  },
  {
   "cell_type": "code",
   "execution_count": 51,
   "id": "cb751101",
   "metadata": {},
   "outputs": [
    {
     "data": {
      "text/html": [
       "<div>\n",
       "<style scoped>\n",
       "    .dataframe tbody tr th:only-of-type {\n",
       "        vertical-align: middle;\n",
       "    }\n",
       "\n",
       "    .dataframe tbody tr th {\n",
       "        vertical-align: top;\n",
       "    }\n",
       "\n",
       "    .dataframe thead th {\n",
       "        text-align: right;\n",
       "    }\n",
       "</style>\n",
       "<table border=\"1\" class=\"dataframe\">\n",
       "  <thead>\n",
       "    <tr style=\"text-align: right;\">\n",
       "      <th></th>\n",
       "      <th>Title</th>\n",
       "      <th>Source</th>\n",
       "      <th>Time</th>\n",
       "      <th>Year</th>\n",
       "      <th>Month</th>\n",
       "      <th>Day</th>\n",
       "      <th>Text</th>\n",
       "    </tr>\n",
       "  </thead>\n",
       "  <tbody>\n",
       "    <tr>\n",
       "      <th>0</th>\n",
       "      <td>UN warns of growing attacks in Central Africa</td>\n",
       "      <td>IBNS</td>\n",
       "      <td>March 31, 2012 Saturday 6:30 AM EST</td>\n",
       "      <td>2012</td>\n",
       "      <td>March</td>\n",
       "      <td>31</td>\n",
       "      <td>[\"Geneva, Mar 31 (IBNS) The United Nations ref...</td>\n",
       "    </tr>\n",
       "    <tr>\n",
       "      <th>1</th>\n",
       "      <td>Uganda U.S. Legislator Proposes Crackdown on R...</td>\n",
       "      <td>Africa News</td>\n",
       "      <td>March 1, 2010 Monday</td>\n",
       "      <td>2010</td>\n",
       "      <td>March</td>\n",
       "      <td>0</td>\n",
       "      <td>[\"American legislators are pushing for a law t...</td>\n",
       "    </tr>\n",
       "    <tr>\n",
       "      <th>2</th>\n",
       "      <td>The Wizard of the Nile, Matthew Green, Portobe...</td>\n",
       "      <td>The Point</td>\n",
       "      <td>1-Apr-16</td>\n",
       "      <td>2016</td>\n",
       "      <td>April</td>\n",
       "      <td>1</td>\n",
       "      <td>[\"Once again this week Uganda is in the news f...</td>\n",
       "    </tr>\n",
       "    <tr>\n",
       "      <th>3</th>\n",
       "      <td>AU, UN Take Stand Against Kony</td>\n",
       "      <td>The New Times (Kigali)</td>\n",
       "      <td>April 13, 2012 Friday</td>\n",
       "      <td>2012</td>\n",
       "      <td>April</td>\n",
       "      <td>13</td>\n",
       "      <td>[\"As Rwanda marks the 18th Anniversary of the ...</td>\n",
       "    </tr>\n",
       "    <tr>\n",
       "      <th>4</th>\n",
       "      <td>UN ,Governments to meet to finalize regional s...</td>\n",
       "      <td>IBNS</td>\n",
       "      <td>March 14, 2012 Wednesday 6:30 AM EST</td>\n",
       "      <td>2012</td>\n",
       "      <td>March</td>\n",
       "      <td>14</td>\n",
       "      <td>[\"New York, Mar 14 (IBNS): United Nations and ...</td>\n",
       "    </tr>\n",
       "  </tbody>\n",
       "</table>\n",
       "</div>"
      ],
      "text/plain": [
       "                                               Title                  Source  \\\n",
       "0      UN warns of growing attacks in Central Africa                    IBNS   \n",
       "1  Uganda U.S. Legislator Proposes Crackdown on R...             Africa News   \n",
       "2  The Wizard of the Nile, Matthew Green, Portobe...               The Point   \n",
       "3                     AU, UN Take Stand Against Kony  The New Times (Kigali)   \n",
       "4  UN ,Governments to meet to finalize regional s...                    IBNS   \n",
       "\n",
       "                                   Time  Year  Month  Day  \\\n",
       "0   March 31, 2012 Saturday 6:30 AM EST  2012  March   31   \n",
       "1                  March 1, 2010 Monday  2010  March    0   \n",
       "2                              1-Apr-16  2016  April    1   \n",
       "3                 April 13, 2012 Friday  2012  April   13   \n",
       "4  March 14, 2012 Wednesday 6:30 AM EST  2012  March   14   \n",
       "\n",
       "                                                Text  \n",
       "0  [\"Geneva, Mar 31 (IBNS) The United Nations ref...  \n",
       "1  [\"American legislators are pushing for a law t...  \n",
       "2  [\"Once again this week Uganda is in the news f...  \n",
       "3  [\"As Rwanda marks the 18th Anniversary of the ...  \n",
       "4  [\"New York, Mar 14 (IBNS): United Nations and ...  "
      ]
     },
     "execution_count": 51,
     "metadata": {},
     "output_type": "execute_result"
    }
   ],
   "source": [
    "diverse_df = pd.read_csv('./data/diverse_all_matched.csv')\n",
    "diverse_df.head()"
   ]
  },
  {
   "cell_type": "code",
   "execution_count": 52,
   "id": "3e54afa6",
   "metadata": {},
   "outputs": [
    {
     "data": {
      "text/plain": [
       "(1157, 7)"
      ]
     },
     "execution_count": 52,
     "metadata": {},
     "output_type": "execute_result"
    }
   ],
   "source": [
    "diverse_df.shape"
   ]
  },
  {
   "cell_type": "code",
   "execution_count": 53,
   "id": "121d6ef8",
   "metadata": {},
   "outputs": [],
   "source": [
    "diverse_df.Text = diverse_df.Text.apply(ast.literal_eval)"
   ]
  },
  {
   "cell_type": "code",
   "execution_count": 54,
   "id": "bd95fdd0",
   "metadata": {},
   "outputs": [],
   "source": [
    "def abstract_text(text, target):\n",
    "    matches = list(\n",
    "        map(\n",
    "            lambda s: any(map(lambda t: t in s, target)),\n",
    "            text\n",
    "        )\n",
    "    )\n",
    "    return list(\n",
    "        map(\n",
    "            lambda _: any(_),\n",
    "            zip(\n",
    "                matches, [False] + matches[:-1], matches[1:] + [False]\n",
    "            )\n",
    "        )\n",
    "    )"
   ]
  },
  {
   "cell_type": "code",
   "execution_count": 55,
   "id": "86ff6bcc",
   "metadata": {},
   "outputs": [],
   "source": [
    "PF_targets = [\n",
    "    (\"Uganda\",),\n",
    "    (\"Sudan\",),\n",
    "    (\"Central African Republic\", \"CAR\"),\n",
    "    (\"Democratic Republic of the Congo\", \"DRC\",),\n",
    "]"
   ]
  },
  {
   "cell_type": "code",
   "execution_count": 56,
   "id": "a876fa50",
   "metadata": {},
   "outputs": [
    {
     "data": {
      "text/html": [
       "<div>\n",
       "<style scoped>\n",
       "    .dataframe tbody tr th:only-of-type {\n",
       "        vertical-align: middle;\n",
       "    }\n",
       "\n",
       "    .dataframe tbody tr th {\n",
       "        vertical-align: top;\n",
       "    }\n",
       "\n",
       "    .dataframe thead th {\n",
       "        text-align: right;\n",
       "    }\n",
       "</style>\n",
       "<table border=\"1\" class=\"dataframe\">\n",
       "  <thead>\n",
       "    <tr style=\"text-align: right;\">\n",
       "      <th></th>\n",
       "      <th>Title</th>\n",
       "      <th>Source</th>\n",
       "      <th>Time</th>\n",
       "      <th>Year</th>\n",
       "      <th>Month</th>\n",
       "      <th>Day</th>\n",
       "      <th>Text</th>\n",
       "      <th>PF_TARGET</th>\n",
       "    </tr>\n",
       "  </thead>\n",
       "  <tbody>\n",
       "    <tr>\n",
       "      <th>0</th>\n",
       "      <td>UN warns of growing attacks in Central Africa</td>\n",
       "      <td>IBNS</td>\n",
       "      <td>March 31, 2012 Saturday 6:30 AM EST</td>\n",
       "      <td>2012</td>\n",
       "      <td>March</td>\n",
       "      <td>31</td>\n",
       "      <td>[Geneva, Mar 31 (IBNS) The United Nations refu...</td>\n",
       "      <td>[True, True, True, True, True, True, True, Tru...</td>\n",
       "    </tr>\n",
       "    <tr>\n",
       "      <th>1</th>\n",
       "      <td>Uganda U.S. Legislator Proposes Crackdown on R...</td>\n",
       "      <td>Africa News</td>\n",
       "      <td>March 1, 2010 Monday</td>\n",
       "      <td>2010</td>\n",
       "      <td>March</td>\n",
       "      <td>0</td>\n",
       "      <td>[American legislators are pushing for a law th...</td>\n",
       "      <td>[True, True, True, True, True, True, True, Fal...</td>\n",
       "    </tr>\n",
       "    <tr>\n",
       "      <th>2</th>\n",
       "      <td>The Wizard of the Nile, Matthew Green, Portobe...</td>\n",
       "      <td>The Point</td>\n",
       "      <td>1-Apr-16</td>\n",
       "      <td>2016</td>\n",
       "      <td>April</td>\n",
       "      <td>1</td>\n",
       "      <td>[Once again this week Uganda is in the news fo...</td>\n",
       "      <td>[True, True, True, True, True, True, True, False]</td>\n",
       "    </tr>\n",
       "    <tr>\n",
       "      <th>3</th>\n",
       "      <td>AU, UN Take Stand Against Kony</td>\n",
       "      <td>The New Times (Kigali)</td>\n",
       "      <td>April 13, 2012 Friday</td>\n",
       "      <td>2012</td>\n",
       "      <td>April</td>\n",
       "      <td>13</td>\n",
       "      <td>[As Rwanda marks the 18th Anniversary of the 1...</td>\n",
       "      <td>[True, True, True, True, True, True, True, Tru...</td>\n",
       "    </tr>\n",
       "    <tr>\n",
       "      <th>4</th>\n",
       "      <td>UN ,Governments to meet to finalize regional s...</td>\n",
       "      <td>IBNS</td>\n",
       "      <td>March 14, 2012 Wednesday 6:30 AM EST</td>\n",
       "      <td>2012</td>\n",
       "      <td>March</td>\n",
       "      <td>14</td>\n",
       "      <td>[New York, Mar 14 (IBNS): United Nations and g...</td>\n",
       "      <td>[True, True, True, True, True, False, True, Tr...</td>\n",
       "    </tr>\n",
       "  </tbody>\n",
       "</table>\n",
       "</div>"
      ],
      "text/plain": [
       "                                               Title                  Source  \\\n",
       "0      UN warns of growing attacks in Central Africa                    IBNS   \n",
       "1  Uganda U.S. Legislator Proposes Crackdown on R...             Africa News   \n",
       "2  The Wizard of the Nile, Matthew Green, Portobe...               The Point   \n",
       "3                     AU, UN Take Stand Against Kony  The New Times (Kigali)   \n",
       "4  UN ,Governments to meet to finalize regional s...                    IBNS   \n",
       "\n",
       "                                   Time  Year  Month  Day  \\\n",
       "0   March 31, 2012 Saturday 6:30 AM EST  2012  March   31   \n",
       "1                  March 1, 2010 Monday  2010  March    0   \n",
       "2                              1-Apr-16  2016  April    1   \n",
       "3                 April 13, 2012 Friday  2012  April   13   \n",
       "4  March 14, 2012 Wednesday 6:30 AM EST  2012  March   14   \n",
       "\n",
       "                                                Text  \\\n",
       "0  [Geneva, Mar 31 (IBNS) The United Nations refu...   \n",
       "1  [American legislators are pushing for a law th...   \n",
       "2  [Once again this week Uganda is in the news fo...   \n",
       "3  [As Rwanda marks the 18th Anniversary of the 1...   \n",
       "4  [New York, Mar 14 (IBNS): United Nations and g...   \n",
       "\n",
       "                                           PF_TARGET  \n",
       "0  [True, True, True, True, True, True, True, Tru...  \n",
       "1  [True, True, True, True, True, True, True, Fal...  \n",
       "2  [True, True, True, True, True, True, True, False]  \n",
       "3  [True, True, True, True, True, True, True, Tru...  \n",
       "4  [True, True, True, True, True, False, True, Tr...  "
      ]
     },
     "execution_count": 56,
     "metadata": {},
     "output_type": "execute_result"
    }
   ],
   "source": [
    "PF_matched = diverse_df.Text.apply(lambda s: abstract_text(s, PF_targets[0]))\n",
    "for PF_target in PF_targets[1:]:\n",
    "    PF_matched = map(lambda x: list(map(any, zip(x[0], x[1]))), zip(PF_matched, diverse_df.Text.apply(lambda s: abstract_text(s, PF_target))))\n",
    "diverse_df['PF_TARGET'] = list(PF_matched)\n",
    "diverse_df.head()"
   ]
  },
  {
   "cell_type": "code",
   "execution_count": 57,
   "id": "6316646a",
   "metadata": {},
   "outputs": [],
   "source": [
    "LRA_targets = [\n",
    "    (\"Lord's Resistance Army\", \"LRA\",),\n",
    "]"
   ]
  },
  {
   "cell_type": "code",
   "execution_count": 58,
   "id": "c6389818",
   "metadata": {},
   "outputs": [
    {
     "data": {
      "text/html": [
       "<div>\n",
       "<style scoped>\n",
       "    .dataframe tbody tr th:only-of-type {\n",
       "        vertical-align: middle;\n",
       "    }\n",
       "\n",
       "    .dataframe tbody tr th {\n",
       "        vertical-align: top;\n",
       "    }\n",
       "\n",
       "    .dataframe thead th {\n",
       "        text-align: right;\n",
       "    }\n",
       "</style>\n",
       "<table border=\"1\" class=\"dataframe\">\n",
       "  <thead>\n",
       "    <tr style=\"text-align: right;\">\n",
       "      <th></th>\n",
       "      <th>Title</th>\n",
       "      <th>Source</th>\n",
       "      <th>Time</th>\n",
       "      <th>Year</th>\n",
       "      <th>Month</th>\n",
       "      <th>Day</th>\n",
       "      <th>Text</th>\n",
       "      <th>PF_TARGET</th>\n",
       "      <th>LRA_TARGET</th>\n",
       "    </tr>\n",
       "  </thead>\n",
       "  <tbody>\n",
       "    <tr>\n",
       "      <th>0</th>\n",
       "      <td>UN warns of growing attacks in Central Africa</td>\n",
       "      <td>IBNS</td>\n",
       "      <td>March 31, 2012 Saturday 6:30 AM EST</td>\n",
       "      <td>2012</td>\n",
       "      <td>March</td>\n",
       "      <td>31</td>\n",
       "      <td>[Geneva, Mar 31 (IBNS) The United Nations refu...</td>\n",
       "      <td>[True, True, True, True, True, True, True, Tru...</td>\n",
       "      <td>[True, True, True, True, True, True, True, Tru...</td>\n",
       "    </tr>\n",
       "    <tr>\n",
       "      <th>1</th>\n",
       "      <td>Uganda U.S. Legislator Proposes Crackdown on R...</td>\n",
       "      <td>Africa News</td>\n",
       "      <td>March 1, 2010 Monday</td>\n",
       "      <td>2010</td>\n",
       "      <td>March</td>\n",
       "      <td>0</td>\n",
       "      <td>[American legislators are pushing for a law th...</td>\n",
       "      <td>[True, True, True, True, True, True, True, Fal...</td>\n",
       "      <td>[True, True, True, True, True, True, True, Fal...</td>\n",
       "    </tr>\n",
       "    <tr>\n",
       "      <th>2</th>\n",
       "      <td>The Wizard of the Nile, Matthew Green, Portobe...</td>\n",
       "      <td>The Point</td>\n",
       "      <td>1-Apr-16</td>\n",
       "      <td>2016</td>\n",
       "      <td>April</td>\n",
       "      <td>1</td>\n",
       "      <td>[Once again this week Uganda is in the news fo...</td>\n",
       "      <td>[True, True, True, True, True, True, True, False]</td>\n",
       "      <td>[True, True, True, True, True, True, False, Fa...</td>\n",
       "    </tr>\n",
       "    <tr>\n",
       "      <th>3</th>\n",
       "      <td>AU, UN Take Stand Against Kony</td>\n",
       "      <td>The New Times (Kigali)</td>\n",
       "      <td>April 13, 2012 Friday</td>\n",
       "      <td>2012</td>\n",
       "      <td>April</td>\n",
       "      <td>13</td>\n",
       "      <td>[As Rwanda marks the 18th Anniversary of the 1...</td>\n",
       "      <td>[True, True, True, True, True, True, True, Tru...</td>\n",
       "      <td>[True, True, True, True, True, True, True, Tru...</td>\n",
       "    </tr>\n",
       "    <tr>\n",
       "      <th>4</th>\n",
       "      <td>UN ,Governments to meet to finalize regional s...</td>\n",
       "      <td>IBNS</td>\n",
       "      <td>March 14, 2012 Wednesday 6:30 AM EST</td>\n",
       "      <td>2012</td>\n",
       "      <td>March</td>\n",
       "      <td>14</td>\n",
       "      <td>[New York, Mar 14 (IBNS): United Nations and g...</td>\n",
       "      <td>[True, True, True, True, True, False, True, Tr...</td>\n",
       "      <td>[True, True, True, True, True, True, True, Tru...</td>\n",
       "    </tr>\n",
       "  </tbody>\n",
       "</table>\n",
       "</div>"
      ],
      "text/plain": [
       "                                               Title                  Source  \\\n",
       "0      UN warns of growing attacks in Central Africa                    IBNS   \n",
       "1  Uganda U.S. Legislator Proposes Crackdown on R...             Africa News   \n",
       "2  The Wizard of the Nile, Matthew Green, Portobe...               The Point   \n",
       "3                     AU, UN Take Stand Against Kony  The New Times (Kigali)   \n",
       "4  UN ,Governments to meet to finalize regional s...                    IBNS   \n",
       "\n",
       "                                   Time  Year  Month  Day  \\\n",
       "0   March 31, 2012 Saturday 6:30 AM EST  2012  March   31   \n",
       "1                  March 1, 2010 Monday  2010  March    0   \n",
       "2                              1-Apr-16  2016  April    1   \n",
       "3                 April 13, 2012 Friday  2012  April   13   \n",
       "4  March 14, 2012 Wednesday 6:30 AM EST  2012  March   14   \n",
       "\n",
       "                                                Text  \\\n",
       "0  [Geneva, Mar 31 (IBNS) The United Nations refu...   \n",
       "1  [American legislators are pushing for a law th...   \n",
       "2  [Once again this week Uganda is in the news fo...   \n",
       "3  [As Rwanda marks the 18th Anniversary of the 1...   \n",
       "4  [New York, Mar 14 (IBNS): United Nations and g...   \n",
       "\n",
       "                                           PF_TARGET  \\\n",
       "0  [True, True, True, True, True, True, True, Tru...   \n",
       "1  [True, True, True, True, True, True, True, Fal...   \n",
       "2  [True, True, True, True, True, True, True, False]   \n",
       "3  [True, True, True, True, True, True, True, Tru...   \n",
       "4  [True, True, True, True, True, False, True, Tr...   \n",
       "\n",
       "                                          LRA_TARGET  \n",
       "0  [True, True, True, True, True, True, True, Tru...  \n",
       "1  [True, True, True, True, True, True, True, Fal...  \n",
       "2  [True, True, True, True, True, True, False, Fa...  \n",
       "3  [True, True, True, True, True, True, True, Tru...  \n",
       "4  [True, True, True, True, True, True, True, Tru...  "
      ]
     },
     "execution_count": 58,
     "metadata": {},
     "output_type": "execute_result"
    }
   ],
   "source": [
    "LRA_matched = diverse_df.Text.apply(lambda s: abstract_text(s, LRA_targets[0]))\n",
    "for LRA_target in LRA_targets[1:]:\n",
    "    LRA_matched = map(lambda x: list(map(any, zip(x[0], x[1]))), zip(LRA_matched, diverse_df.Text.apply(lambda s: abstract_text(s, LRA_target))))\n",
    "diverse_df['LRA_TARGET'] = list(LRA_matched)\n",
    "diverse_df.head()"
   ]
  },
  {
   "cell_type": "code",
   "execution_count": 59,
   "id": "b3291042",
   "metadata": {},
   "outputs": [],
   "source": [
    "diverse_df.to_csv('./data/result_1.csv', index=False)"
   ]
  },
  {
   "cell_type": "markdown",
   "id": "d51fa011",
   "metadata": {},
   "source": [
    "<!-- # 2. 开发编码标准 -->\n"
   ]
  },
  {
   "cell_type": "markdown",
   "id": "ab5d6892",
   "metadata": {},
   "source": [
    "<!-- # 3. 构建训练数据 -->\n"
   ]
  },
  {
   "cell_type": "markdown",
   "id": "f2f01a18",
   "metadata": {},
   "source": [
    "<!-- # 4. 校准机器学习算法 -->\n"
   ]
  },
  {
   "cell_type": "markdown",
   "id": "4512e0f9",
   "metadata": {},
   "source": [
    "<!-- # 5. 将ML算法的输出转换成评估就绪的格式 -->\n"
   ]
  }
 ],
 "metadata": {
  "kernelspec": {
   "display_name": "Python 3",
   "language": "python",
   "name": "python3"
  },
  "language_info": {
   "codemirror_mode": {
    "name": "ipython",
    "version": 3
   },
   "file_extension": ".py",
   "mimetype": "text/x-python",
   "name": "python",
   "nbconvert_exporter": "python",
   "pygments_lexer": "ipython3",
   "version": "3.11.11"
  }
 },
 "nbformat": 4,
 "nbformat_minor": 5
}
